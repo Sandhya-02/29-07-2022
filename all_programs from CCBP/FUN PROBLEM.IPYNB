{
 "cells": [
  {
   "cell_type": "code",
   "execution_count": 14,
   "metadata": {},
   "outputs": [
    {
     "data": {
      "text/plain": [
       "10"
      ]
     },
     "execution_count": 14,
     "metadata": {},
     "output_type": "execute_result"
    }
   ],
   "source": [
    "def function_name(arg):\n",
    "    return(arg)\n",
    "n =int(input())\n",
    "function_name(arg=n)"
   ]
  },
  {
   "cell_type": "code",
   "execution_count": 1,
   "metadata": {},
   "outputs": [
    {
     "name": "stdout",
     "output_type": "stream",
     "text": [
      "welcome tosandhya\n"
     ]
    }
   ],
   "source": [
    "def function_name(message):\n",
    "    name=\"welcome\"+ \" \" +message\n",
    "    print(name)\n",
    "name1=input()\n",
    "function_name(name1)"
   ]
  },
  {
   "cell_type": "code",
   "execution_count": 20,
   "metadata": {},
   "outputs": [
    {
     "name": "stdout",
     "output_type": "stream",
     "text": [
      "6\n"
     ]
    }
   ],
   "source": [
    "def fun():\n",
    "    num = N * 3\n",
    "    print(num)\n",
    "N = int(input())\n",
    "fun()"
   ]
  },
  {
   "cell_type": "code",
   "execution_count": 47,
   "metadata": {},
   "outputs": [
    {
     "name": "stdout",
     "output_type": "stream",
     "text": [
      "True\n",
      "91\n",
      "0\n"
     ]
    }
   ],
   "source": [
    "def fun(arg):\n",
    "    div = N%7\n",
    "    print(div)\n",
    "if N%7==0:\n",
    "    print(\"True\")\n",
    "else:\n",
    "    print(\"False\")    \n",
    "N = int(input())\n",
    "print(N)\n",
    "\n",
    "fun(arg=N)"
   ]
  },
  {
   "cell_type": "code",
   "execution_count": 48,
   "metadata": {},
   "outputs": [
    {
     "name": "stdout",
     "output_type": "stream",
     "text": [
      "True\n",
      "None\n"
     ]
    }
   ],
   "source": [
    "def fun(arg):\n",
    "    if N%7==0:\n",
    "        print(\"True\")\n",
    "    else:\n",
    "        print(\"False\")\n",
    "N = int(input())\n",
    "print(fun(arg=N))"
   ]
  },
  {
   "cell_type": "code",
   "execution_count": 44,
   "metadata": {},
   "outputs": [
    {
     "name": "stdout",
     "output_type": "stream",
     "text": [
      "91\n",
      "True\n"
     ]
    }
   ],
   "source": [
    "N = int(input())\n",
    "print(N)\n",
    "if N%7==0:\n",
    "    print(\"True\")\n",
    "else:\n",
    "    print(\"False\")"
   ]
  },
  {
   "cell_type": "code",
   "execution_count": 63,
   "metadata": {},
   "outputs": [
    {
     "name": "stdout",
     "output_type": "stream",
     "text": [
      "akhil is 15 years old\n"
     ]
    }
   ],
   "source": [
    "def function_name(arg1,arg2,arg3):\n",
    "    mess = arg1+arg2+arg3\n",
    "    print(mess)\n",
    "name1 = input()\n",
    "name2 = str(input())\n",
    "name3 = input()\n",
    "function_name(arg1=name1,arg2=name2,arg3=name3)"
   ]
  },
  {
   "cell_type": "code",
   "execution_count": 70,
   "metadata": {},
   "outputs": [
    {
     "name": "stdout",
     "output_type": "stream",
     "text": [
      "akhil is 15 years old\n"
     ]
    }
   ],
   "source": [
    "def function_name(arg1,arg2):\n",
    "    mess= arg1 + \" is \" + arg2 + \" years old\"\n",
    "    print(mess)\n",
    "name1 = input()\n",
    "name2 = input()\n",
    "function_name(arg1=name1,arg2=name2)"
   ]
  },
  {
   "cell_type": "code",
   "execution_count": 74,
   "metadata": {},
   "outputs": [
    {
     "name": "stdout",
     "output_type": "stream",
     "text": [
      "sandhya is 21 years old\n"
     ]
    }
   ],
   "source": [
    "def function_name(arg1,arg2):\n",
    "    mess= arg1 + \" is \" + arg2 + \" years old\"\n",
    "    print(mess)\n",
    "name = input()\n",
    "age = str(input())\n",
    "function_name(arg1=name,arg2=age)"
   ]
  },
  {
   "cell_type": "code",
   "execution_count": 80,
   "metadata": {},
   "outputs": [
    {
     "name": "stdout",
     "output_type": "stream",
     "text": [
      "20\n"
     ]
    }
   ],
   "source": [
    "def function_name(arg1):\n",
    "    integer = arg1* perimeter_square\n",
    "    print(integer)\n",
    "perimeter_square = 4\n",
    "side = int(input())\n",
    "function_name(arg1=side)"
   ]
  },
  {
   "cell_type": "code",
   "execution_count": 87,
   "metadata": {},
   "outputs": [
    {
     "name": "stdout",
     "output_type": "stream",
     "text": [
      "<class 'list'>\n",
      "5\n",
      "1\n",
      "4\n",
      "9\n",
      "16\n",
      "25\n"
     ]
    }
   ],
   "source": [
    "a = [1,2,3,4,5]\n",
    "print(type(a))\n",
    "print(len(a))\n",
    "print(a[0]**2)\n",
    "print(a[1]**2)\n",
    "print(a[2]**2)\n",
    "print(a[3]**2)\n",
    "print(a[4]**2)\n"
   ]
  },
  {
   "cell_type": "code",
   "execution_count": 90,
   "metadata": {},
   "outputs": [
    {
     "name": "stdout",
     "output_type": "stream",
     "text": [
      "1 4 9 16 25 "
     ]
    }
   ],
   "source": [
    "for i in range(1,6):\n",
    "    print(i**2,end=\" \")"
   ]
  },
  {
   "cell_type": "markdown",
   "metadata": {},
   "source": [
    "IDENTIFY THE MISTAKE-LIST OF SQUARES"
   ]
  },
  {
   "cell_type": "code",
   "execution_count": null,
   "metadata": {},
   "outputs": [],
   "source": [
    "def function_name()"
   ]
  },
  {
   "cell_type": "markdown",
   "metadata": {},
   "source": [
    "add 2 numbers"
   ]
  },
  {
   "cell_type": "code",
   "execution_count": 98,
   "metadata": {},
   "outputs": [
    {
     "name": "stdout",
     "output_type": "stream",
     "text": [
      "10\n",
      "20\n",
      "30\n"
     ]
    },
    {
     "data": {
      "text/plain": [
       "30"
      ]
     },
     "execution_count": 98,
     "metadata": {},
     "output_type": "execute_result"
    }
   ],
   "source": [
    "def function_name(argu1,argu2):\n",
    "    add = argu1 +argu2\n",
    "    print(add)\n",
    "    return(add)\n",
    "sum=int(input())\n",
    "print(sum)\n",
    "sum1 = int(input())\n",
    "print(sum1)\n",
    "function_name(argu1=sum,argu2=sum1)"
   ]
  }
 ],
 "metadata": {
  "kernelspec": {
   "display_name": "Python 3.7.9 64-bit",
   "language": "python",
   "name": "python3"
  },
  "language_info": {
   "codemirror_mode": {
    "name": "ipython",
    "version": 3
   },
   "file_extension": ".py",
   "mimetype": "text/x-python",
   "name": "python",
   "nbconvert_exporter": "python",
   "pygments_lexer": "ipython3",
   "version": "3.7.9"
  },
  "orig_nbformat": 4,
  "vscode": {
   "interpreter": {
    "hash": "41ab88648b975b718e681383398dbc83752b59ee1497f4637fc2e3354887f18f"
   }
  }
 },
 "nbformat": 4,
 "nbformat_minor": 2
}
