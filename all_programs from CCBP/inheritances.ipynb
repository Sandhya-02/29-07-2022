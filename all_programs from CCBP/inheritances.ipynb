{
 "cells": [
  {
   "cell_type": "markdown",
   "metadata": {},
   "source": [
    "### Inheritances \n",
    "1.super class,super,parents,base\n",
    "2.sub class,sub,chid,derived                "
   ]
  },
  {
   "cell_type": "markdown",
   "metadata": {},
   "source": [
    "### super_class"
   ]
  },
  {
   "cell_type": "code",
   "execution_count": 2,
   "metadata": {},
   "outputs": [
    {
     "name": "stdout",
     "output_type": "stream",
     "text": [
      "product name :watch\n",
      "price :2000\n",
      "deal_price :1999\n",
      "rating :4.5\n",
      "you_save :1\n"
     ]
    }
   ],
   "source": [
    "class product:\n",
    "    def __init__(self,name,price,deal_price,rating):\n",
    "        self.name = name\n",
    "        self.price = price\n",
    "        self.deal_price = deal_price\n",
    "        self.rating = rating\n",
    "        self.you_save = price-deal_price\n",
    "    def display_product_details(self):\n",
    "        print(\"product name :{}\".format(self.name))\n",
    "        print(\"price :{}\".format(self.price))\n",
    "        print(\"deal_price :{}\".format(self.deal_price))\n",
    "        print(\"rating :{}\".format(self.rating))\n",
    "        print(\"you_save :{}\".format(self.you_save))\n",
    "p = product(\"watch\",2000,1999,4.5)\n",
    "p.display_product_details()\n",
    "\n"
   ]
  },
  {
   "cell_type": "markdown",
   "metadata": {},
   "source": [
    "### sub class"
   ]
  },
  {
   "cell_type": "code",
   "execution_count": null,
   "metadata": {},
   "outputs": [],
   "source": [
    "class product:\n",
    "    def __init__(self,name,price,deal_price,rating):\n",
    "        self.name = name\n",
    "        self.price = price\n",
    "        self.deal_price = deal_price\n",
    "        self.rating = rating\n",
    "        self.you_save = price-deal_price\n",
    "    def display_product_details(self):\n",
    "        print(\"product name :{}\".format(self.name))\n",
    "        print(\"price :{}\".format(self.price))\n",
    "        print(\"deal_price :{}\".format(self.deal_price))\n",
    "        print(\"rating :{}\".format(self.rating))\n",
    "        print(\"you_save :{}\".format(self.you_save))\n",
    "\n",
    "class ElectronicItem(product):\n",
    "    pass\n",
    "\n",
    "class groceryItem(product):\n",
    "    pass\n",
    "\n",
    "e_item = ElectronicItem(\"roses\",500,450,4.9)\n",
    "e_item.display_product_details()\n",
    "g_item = groceryItem(\"choclate\",250,200,5)\n",
    "g_item.display_product_details()\n"
   ]
  },
  {
   "cell_type": "code",
   "execution_count": 6,
   "metadata": {},
   "outputs": [
    {
     "name": "stdout",
     "output_type": "stream",
     "text": [
      "product name :laptop\n",
      "price :72000\n",
      "deal_price :66000\n",
      "rating :4.5\n",
      "you_save :6000\n",
      "12\n"
     ]
    }
   ],
   "source": [
    "class product:\n",
    "    def __init__(self,name,price,deal_price,rating):\n",
    "        self.name = name\n",
    "        self.price = price\n",
    "        self.deal_price = deal_price\n",
    "        self.rating = rating\n",
    "        self.you_save = price-deal_price\n",
    "    def display_product_details(self):\n",
    "        print(\"product name :{}\".format(self.name))\n",
    "        print(\"price :{}\".format(self.price))\n",
    "        print(\"deal_price :{}\".format(self.deal_price))\n",
    "        print(\"rating :{}\".format(self.rating))\n",
    "        print(\"you_save :{}\".format(self.you_save))\n",
    "\n",
    "class ElectronicItem(product):\n",
    "    def set_warranty(self,warranty_in_months):\n",
    "        self.warranty_in_months = warranty_in_months\n",
    "    def get_warranty(self):\n",
    "        return self.warranty_in_months\n",
    " \n",
    "class groceryItem(product):\n",
    "    pass\n",
    "e_item = ElectronicItem(\"laptop\",72000,66000,4.5)\n",
    "e_item.display_product_details()\n",
    "e_item.set_warranty(12)\n",
    "print(e_item.get_warranty())"
   ]
  },
  {
   "cell_type": "code",
   "execution_count": 12,
   "metadata": {},
   "outputs": [
    {
     "name": "stdout",
     "output_type": "stream",
     "text": [
      "name_of_the_student :jack\n",
      "age : 24\n",
      "date_of_year :1998\n",
      "gender :female\n",
      "place :ongole\n"
     ]
    }
   ],
   "source": [
    "class information:\n",
    "    def __init__(self,name,age,date_of_year,gender,place):\n",
    "        self.name = name\n",
    "        self.age = age\n",
    "        self.date_of_year = date_of_year\n",
    "        self.gender = gender\n",
    "        self.place = place\n",
    "    def details_about_a_student(self):\n",
    "        print(\"name_of_the_student :{}\".format(self.name))\n",
    "        print(\"age : {}\". format(self.age))\n",
    "        print(\"date_of_year :{}\".format(self.date_of_year))\n",
    "        print(\"gender :{}\".format(self.gender))\n",
    "        print(\"place :{}\".format(self.place))\n",
    "info = information(\"jack\",24,1998,\"female\",\"ongole\")\n",
    "info.details_about_a_student()"
   ]
  }
 ],
 "metadata": {
  "kernelspec": {
   "display_name": "Python 3.7.9 64-bit",
   "language": "python",
   "name": "python3"
  },
  "language_info": {
   "codemirror_mode": {
    "name": "ipython",
    "version": 3
   },
   "file_extension": ".py",
   "mimetype": "text/x-python",
   "name": "python",
   "nbconvert_exporter": "python",
   "pygments_lexer": "ipython3",
   "version": "3.7.9"
  },
  "orig_nbformat": 4,
  "vscode": {
   "interpreter": {
    "hash": "41ab88648b975b718e681383398dbc83752b59ee1497f4637fc2e3354887f18f"
   }
  }
 },
 "nbformat": 4,
 "nbformat_minor": 2
}
