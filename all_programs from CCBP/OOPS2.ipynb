{
 "cells": [
  {
   "cell_type": "code",
   "execution_count": 2,
   "metadata": {},
   "outputs": [
    {
     "name": "stdout",
     "output_type": "stream",
     "text": [
      "sandhyasandhyasandhya\n"
     ]
    },
    {
     "data": {
      "text/plain": [
       "'sandhyasandhyasandhya'"
      ]
     },
     "execution_count": 2,
     "metadata": {},
     "output_type": "execute_result"
    }
   ],
   "source": [
    "def function_name(argu1,argu2):\n",
    "    name = \"sandhya\" + argu1 + argu2\n",
    "    print(name)\n",
    "    return(name)\n",
    "name1 = str(input())\n",
    "name2 = str(input())\n",
    "function_name(argu1=name1,argu2=name2)\n",
    "# print(function_name)"
   ]
  },
  {
   "cell_type": "markdown",
   "metadata": {},
   "source": [
    "### oops"
   ]
  },
  {
   "cell_type": "markdown",
   "metadata": {},
   "source": [
    "instances_of_class == function_class"
   ]
  },
  {
   "cell_type": "code",
   "execution_count": 8,
   "metadata": {},
   "outputs": [
    {
     "name": "stdout",
     "output_type": "stream",
     "text": [
      "<__main__.books object at 0x0000025E31E42D48>\n",
      "<__main__.books object at 0x0000025E31E47548>\n",
      "<__main__.books object at 0x0000025E31E42688>\n"
     ]
    }
   ],
   "source": [
    "class books:\n",
    "    def __init__(self,textbook,notebook):\n",
    "        self.textbook = textbook\n",
    "        self.notebook = notebook\n",
    "instances_class = books(\"text_books_contains_500pa\",\"note_books_contains_200pa\")\n",
    "print(instances_class)\n",
    "instances_class1 = books(\"note_books_contains_200pa\",\"sandhya\")\n",
    "print(instances_class1)\n",
    "instances_class2 = books(\"text_books_contains_500pa\",\"sindhu\")\n",
    "print(instances_class2)"
   ]
  },
  {
   "cell_type": "markdown",
   "metadata": {},
   "source": [
    "function_in_function"
   ]
  },
  {
   "cell_type": "markdown",
   "metadata": {},
   "source": [
    "### class_object :: an object is simply a collection of attributes and methods that act on those data"
   ]
  },
  {
   "cell_type": "code",
   "execution_count": 13,
   "metadata": {},
   "outputs": [
    {
     "name": "stdout",
     "output_type": "stream",
     "text": [
      "<__main__.human object at 0x0000025E31CF4D08>\n"
     ]
    }
   ],
   "source": [
    "class human:\n",
    "    def __init__(self,height,weight,color,age,gender):\n",
    "        self.height = height\n",
    "        self.weight = weight\n",
    "        self.color = color\n",
    "        self.age = age\n",
    "        self.gender = gender\n",
    "    def make_call(self,color):\n",
    "        print(\"white\")\n",
    "# instances_class1 = human(\"color\")\n",
    "# print(instances_class1)\n",
    "instances_class= human(\"52\",\"53\",\"white\",\"22\",\"female\")\n",
    "print(instances_class)"
   ]
  },
  {
   "cell_type": "markdown",
   "metadata": {},
   "source": [
    "Methods of class:\n",
    "1.instance method\n",
    "2.class method\n",
    "3.static method"
   ]
  },
  {
   "cell_type": "markdown",
   "metadata": {},
   "source": [
    "### instance method"
   ]
  },
  {
   "cell_type": "markdown",
   "metadata": {},
   "source": [
    "instance method: we need to write first self in the function defination and then the arguments\n",
    "def __init__(self,argu1,argu2)"
   ]
  },
  {
   "cell_type": "code",
   "execution_count": 20,
   "metadata": {},
   "outputs": [
    {
     "name": "stdout",
     "output_type": "stream",
     "text": [
      "<__main__.langagues object at 0x0000025E31259D48>\n",
      "<bound method langagues.more_langagues of <__main__.langagues object at 0x0000025E31259D48>>\n"
     ]
    }
   ],
   "source": [
    "class langagues:\n",
    "    def __init__(self,python,oops):\n",
    "        self.python = python\n",
    "        self.oops = oops\n",
    "    def more_langagues(self,java):\n",
    "        print(\"easy_langagues\")\n",
    "class_obj = langagues(\"easy_to_understand\",\"easy_to_write_code\")\n",
    "print(class_obj)\n",
    "print(class_obj.more_langagues)"
   ]
  },
  {
   "cell_type": "code",
   "execution_count": 31,
   "metadata": {},
   "outputs": [
    {
     "ename": "SyntaxError",
     "evalue": "invalid syntax (<ipython-input-31-3ea915b690bc>, line 8)",
     "output_type": "error",
     "traceback": [
      "\u001b[1;36m  File \u001b[1;32m\"<ipython-input-31-3ea915b690bc>\"\u001b[1;36m, line \u001b[1;32m8\u001b[0m\n\u001b[1;33m    print(mobile_obj.(\"9347168240\"))\u001b[0m\n\u001b[1;37m                     ^\u001b[0m\n\u001b[1;31mSyntaxError\u001b[0m\u001b[1;31m:\u001b[0m invalid syntax\n"
     ]
    }
   ],
   "source": [
    "class mobile:\n",
    "    def __init__(self,model,camera):\n",
    "        self.model = model\n",
    "        self.camera = camera\n",
    "    def make_call(self,number):\n",
    "        print(calling.formate(number))\n",
    "mobile_obj = mobile(\"galaxy m51\",\"64mp\")\n",
    "print(mobile_obj.(\"9347168240\"))"
   ]
  },
  {
   "cell_type": "markdown",
   "metadata": {},
   "source": [
    "### type of object"
   ]
  },
  {
   "cell_type": "code",
   "execution_count": 32,
   "metadata": {},
   "outputs": [
    {
     "name": "stdout",
     "output_type": "stream",
     "text": [
      "<__main__.mobile object at 0x0000025E31E47C08>\n"
     ]
    }
   ],
   "source": [
    "obj = mobile(\"iphone\",\"vivo\")\n",
    "type(obj)\n",
    "print(obj)"
   ]
  },
  {
   "cell_type": "code",
   "execution_count": 34,
   "metadata": {},
   "outputs": [
    {
     "name": "stdout",
     "output_type": "stream",
     "text": [
      "<class '__main__.mobile'>\n"
     ]
    }
   ],
   "source": [
    "class mobile:\n",
    "    def __init__(self,model,camera):\n",
    "        self.model = model\n",
    "        self.camera = camera\n",
    "class_obj = mobile(\"iphone\",\"vivo\")\n",
    "print(type(class_obj))"
   ]
  },
  {
   "cell_type": "markdown",
   "metadata": {},
   "source": [
    "### multiple instances"
   ]
  },
  {
   "cell_type": "code",
   "execution_count": 36,
   "metadata": {},
   "outputs": [
    {
     "name": "stdout",
     "output_type": "stream",
     "text": [
      "<__main__.students object at 0x0000025E31E6F808>\n",
      "2603587401736\n",
      "<__main__.students object at 0x0000025E31CF4D08>\n",
      "2603585850632\n"
     ]
    }
   ],
   "source": [
    "class students:\n",
    "    def __init__(self,female,male):\n",
    "        self.female = female\n",
    "        self.male = male\n",
    "    def trans_gender(self,gay):\n",
    "        print(\"girls\",\"boys\")\n",
    "instances_class = students(\"she\",\"he\")\n",
    "print(instances_class)\n",
    "print(id(instances_class))\n",
    "instances_class1 = students(\"her\",\"him\")\n",
    "print(instances_class1)\n",
    "print(id(instances_class1))"
   ]
  },
  {
   "cell_type": "code",
   "execution_count": 38,
   "metadata": {},
   "outputs": [
    {
     "name": "stdout",
     "output_type": "stream",
     "text": [
      "<__main__.name object at 0x0000025E31EF5908>\n"
     ]
    }
   ],
   "source": [
    "class name:\n",
    "    def __init__(self,sandhya,ruhi):\n",
    "        self.sandhya = sandhya\n",
    "        self.ruhi = ruhi\n",
    "instance_class = name(\"daughter\",\"daughter_friend\")\n",
    "print(instance_class)"
   ]
  },
  {
   "cell_type": "markdown",
   "metadata": {},
   "source": [
    "### Attributes_of_an_object:"
   ]
  },
  {
   "cell_type": "code",
   "execution_count": 39,
   "metadata": {},
   "outputs": [
    {
     "name": "stdout",
     "output_type": "stream",
     "text": [
      "ghansiram\n",
      "majula\n",
      "sandeep\n",
      "sindhu\n"
     ]
    }
   ],
   "source": [
    "class family:\n",
    "    def __init__ (self,father,mother,brother,sister):\n",
    "        self.father = father\n",
    "        self.mother = mother\n",
    "        self.brother = brother\n",
    "        self.sister = sister\n",
    "instance_class = family(\"ghansiram\",\"majula\",\"sandeep\",\"sindhu\")\n",
    "print(instance_class.father)\n",
    "print(instance_class.mother)\n",
    "print(instance_class.brother)\n",
    "print(instance_class.sister)"
   ]
  },
  {
   "cell_type": "markdown",
   "metadata": {},
   "source": [
    "### Accessing in other methods"
   ]
  },
  {
   "cell_type": "code",
   "execution_count": 47,
   "metadata": {},
   "outputs": [
    {
     "name": "stdout",
     "output_type": "stream",
     "text": [
      "sandhya\n",
      "sneha\n"
     ]
    }
   ],
   "source": [
    "class college:\n",
    "    def __init__(self,vasavi,vardhaman,cbit):\n",
    "        self.vasavi = vasavi\n",
    "        self.vardhaman = vardhaman\n",
    "        self.cbit = cbit\n",
    "college_information = college(\"sandhya\",\"yeshwanth\",\"sneha\")\n",
    "print(college_information.vasavi)\n",
    "print(college_information.cbit)\n"
   ]
  },
  {
   "cell_type": "code",
   "execution_count": 65,
   "metadata": {},
   "outputs": [
    {
     "name": "stdout",
     "output_type": "stream",
     "text": [
      "sandhya\n",
      "sneha\n"
     ]
    }
   ],
   "source": [
    "class college:\n",
    "    def __init__(self,vasavi,cbit):\n",
    "        self.vasavi = vasavi\n",
    "        self.cbit = cbit\n",
    "    def get_information(self):\n",
    "        print(self.vasavi)\n",
    "        print(self.cbit)\n",
    "obj1 = college(\"sandhya\",\"sneha\")\n",
    "obj1.get_information()"
   ]
  },
  {
   "cell_type": "markdown",
   "metadata": {},
   "source": [
    "### Modeling_class"
   ]
  },
  {
   "cell_type": "code",
   "execution_count": 80,
   "metadata": {},
   "outputs": [
    {
     "ename": "TypeError",
     "evalue": "__init__() takes 1 positional argument but 3 were given",
     "output_type": "error",
     "traceback": [
      "\u001b[1;31m---------------------------------------------------------------------------\u001b[0m",
      "\u001b[1;31mTypeError\u001b[0m                                 Traceback (most recent call last)",
      "\u001b[1;32m<ipython-input-80-59f5a9306702>\u001b[0m in \u001b[0;36m<module>\u001b[1;34m\u001b[0m\n\u001b[0;32m      7\u001b[0m         \u001b[0mprint\u001b[0m\u001b[1;33m(\u001b[0m\u001b[0mself\u001b[0m\u001b[1;33m.\u001b[0m\u001b[0mitems\u001b[0m\u001b[1;33m)\u001b[0m\u001b[1;33m\u001b[0m\u001b[1;33m\u001b[0m\u001b[0m\n\u001b[0;32m      8\u001b[0m \u001b[0mcart_obj\u001b[0m \u001b[1;33m=\u001b[0m \u001b[0mcart\u001b[0m\u001b[1;33m(\u001b[0m\u001b[1;33m)\u001b[0m\u001b[1;33m\u001b[0m\u001b[1;33m\u001b[0m\u001b[0m\n\u001b[1;32m----> 9\u001b[1;33m \u001b[0mcart_obj\u001b[0m \u001b[1;33m=\u001b[0m \u001b[0mcart\u001b[0m\u001b[1;33m(\u001b[0m\u001b[1;34m\"book\"\u001b[0m\u001b[1;33m,\u001b[0m\u001b[1;36m10\u001b[0m\u001b[1;33m)\u001b[0m\u001b[1;33m\u001b[0m\u001b[1;33m\u001b[0m\u001b[0m\n\u001b[0m\u001b[0;32m     10\u001b[0m \u001b[0mcart_obj\u001b[0m\u001b[1;33m.\u001b[0m\u001b[0madd_item\u001b[0m\u001b[1;33m(\u001b[0m\u001b[1;33m)\u001b[0m\u001b[1;33m\u001b[0m\u001b[1;33m\u001b[0m\u001b[0m\n\u001b[0;32m     11\u001b[0m \u001b[0mcart_obj\u001b[0m\u001b[1;33m.\u001b[0m\u001b[0mget_items\u001b[0m\u001b[1;33m(\u001b[0m\u001b[1;33m)\u001b[0m\u001b[1;33m\u001b[0m\u001b[1;33m\u001b[0m\u001b[0m\n",
      "\u001b[1;31mTypeError\u001b[0m: __init__() takes 1 positional argument but 3 were given"
     ]
    }
   ],
   "source": [
    "class cart:\n",
    "    def __init__(self):\n",
    "        self.items = {}\n",
    "    def add_item(self,item_name,quantity):\n",
    "        self.items[item_name]=quantity\n",
    "    def get_items(self):\n",
    "        print(self.items)\n",
    "cart_obj = cart()\n",
    "cart_obj = cart(\"book\",10)\n",
    "cart_obj.add_item()\n",
    "cart_obj.get_items()\n",
    "cart_obj.add_item(\"laptop\",1)\n",
    "cart_obj.add_item()\n"
   ]
  },
  {
   "cell_type": "markdown",
   "metadata": {},
   "source": [
    "### Attributes/Methods"
   ]
  },
  {
   "cell_type": "markdown",
   "metadata": {},
   "source": [
    "attributes ---------> properties=values\n",
    "method ----------> actions"
   ]
  },
  {
   "cell_type": "markdown",
   "metadata": {},
   "source": [
    "### Attributes:- \n",
    "1.instance attributes\n",
    "2.class attributes"
   ]
  },
  {
   "cell_type": "code",
   "execution_count": 95,
   "metadata": {},
   "outputs": [
    {
     "name": "stdout",
     "output_type": "stream",
     "text": [
      "<__main__.cart object at 0x0000025E31F85148>\n"
     ]
    }
   ],
   "source": [
    "class cart:\n",
    "    flat_discount = 0\n",
    "    min_bill = 100\n",
    "    def __init__(self):\n",
    "        self.item = {}\n",
    "    def add_item(self,item_name,quality):\n",
    "        self.item[item_name]= quality\n",
    "    def display_item(self):\n",
    "        print(self)\n",
    "z = cart()\n",
    "# z.add_item(\"book\",100)\n",
    "z.display_item()"
   ]
  },
  {
   "cell_type": "code",
   "execution_count": 97,
   "metadata": {},
   "outputs": [
    {
     "ename": "AttributeError",
     "evalue": "'cart' object has no attribute 'items'",
     "output_type": "error",
     "traceback": [
      "\u001b[1;31m---------------------------------------------------------------------------\u001b[0m",
      "\u001b[1;31mAttributeError\u001b[0m                            Traceback (most recent call last)",
      "\u001b[1;32m<ipython-input-97-f0e66faa9c53>\u001b[0m in \u001b[0;36m<module>\u001b[1;34m\u001b[0m\n\u001b[0;32m      9\u001b[0m         \u001b[0mprint\u001b[0m\u001b[1;33m(\u001b[0m\u001b[0mself\u001b[0m\u001b[1;33m.\u001b[0m\u001b[0mitem\u001b[0m\u001b[1;33m)\u001b[0m\u001b[1;33m\u001b[0m\u001b[1;33m\u001b[0m\u001b[0m\n\u001b[0;32m     10\u001b[0m \u001b[0ma\u001b[0m \u001b[1;33m=\u001b[0m \u001b[0mcart\u001b[0m\u001b[1;33m(\u001b[0m\u001b[1;33m)\u001b[0m\u001b[1;33m\u001b[0m\u001b[1;33m\u001b[0m\u001b[0m\n\u001b[1;32m---> 11\u001b[1;33m \u001b[0ma\u001b[0m\u001b[1;33m.\u001b[0m\u001b[0madd_item\u001b[0m\u001b[1;33m(\u001b[0m\u001b[1;34m\"book\"\u001b[0m\u001b[1;33m,\u001b[0m\u001b[1;36m3\u001b[0m\u001b[1;33m)\u001b[0m\u001b[1;33m\u001b[0m\u001b[1;33m\u001b[0m\u001b[0m\n\u001b[0m\u001b[0;32m     12\u001b[0m \u001b[0ma\u001b[0m\u001b[1;33m.\u001b[0m\u001b[0mdisplay_item\u001b[0m\u001b[1;33m(\u001b[0m\u001b[1;33m)\u001b[0m\u001b[1;33m\u001b[0m\u001b[1;33m\u001b[0m\u001b[0m\n",
      "\u001b[1;32m<ipython-input-97-f0e66faa9c53>\u001b[0m in \u001b[0;36madd_item\u001b[1;34m(self, item_name, quantity)\u001b[0m\n\u001b[0;32m      5\u001b[0m         \u001b[0mself\u001b[0m\u001b[1;33m.\u001b[0m\u001b[0mitem\u001b[0m \u001b[1;33m=\u001b[0m \u001b[1;33m{\u001b[0m\u001b[1;33m}\u001b[0m\u001b[1;33m\u001b[0m\u001b[1;33m\u001b[0m\u001b[0m\n\u001b[0;32m      6\u001b[0m     \u001b[1;32mdef\u001b[0m \u001b[0madd_item\u001b[0m\u001b[1;33m(\u001b[0m\u001b[0mself\u001b[0m\u001b[1;33m,\u001b[0m\u001b[0mitem_name\u001b[0m\u001b[1;33m,\u001b[0m\u001b[0mquantity\u001b[0m\u001b[1;33m)\u001b[0m\u001b[1;33m:\u001b[0m\u001b[1;33m\u001b[0m\u001b[1;33m\u001b[0m\u001b[0m\n\u001b[1;32m----> 7\u001b[1;33m         \u001b[0mself\u001b[0m\u001b[1;33m.\u001b[0m\u001b[0mitems\u001b[0m\u001b[1;33m[\u001b[0m\u001b[0mitem_name\u001b[0m\u001b[1;33m]\u001b[0m\u001b[1;33m=\u001b[0m\u001b[0mquantity\u001b[0m\u001b[1;33m\u001b[0m\u001b[1;33m\u001b[0m\u001b[0m\n\u001b[0m\u001b[0;32m      8\u001b[0m     \u001b[1;32mdef\u001b[0m \u001b[0mdisplay_item\u001b[0m\u001b[1;33m(\u001b[0m\u001b[0mself\u001b[0m\u001b[1;33m)\u001b[0m\u001b[1;33m:\u001b[0m\u001b[1;33m\u001b[0m\u001b[1;33m\u001b[0m\u001b[0m\n\u001b[0;32m      9\u001b[0m         \u001b[0mprint\u001b[0m\u001b[1;33m(\u001b[0m\u001b[0mself\u001b[0m\u001b[1;33m.\u001b[0m\u001b[0mitem\u001b[0m\u001b[1;33m)\u001b[0m\u001b[1;33m\u001b[0m\u001b[1;33m\u001b[0m\u001b[0m\n",
      "\u001b[1;31mAttributeError\u001b[0m: 'cart' object has no attribute 'items'"
     ]
    }
   ],
   "source": [
    "class cart:\n",
    "    flat_discount = 0\n",
    "    min_bill = 100\n",
    "    def __init__(self):\n",
    "        self.item = {}\n",
    "    def add_item(self,item_name,quantity):\n",
    "        self.items[item_name]=quantity\n",
    "    def display_item(self):\n",
    "        print(self.item)\n",
    "a = cart()\n",
    "a.add_item(\"book\",3)\n",
    "a.display_item()\n"
   ]
  }
 ],
 "metadata": {
  "kernelspec": {
   "display_name": "Python 3.7.9 64-bit",
   "language": "python",
   "name": "python3"
  },
  "language_info": {
   "codemirror_mode": {
    "name": "ipython",
    "version": 3
   },
   "file_extension": ".py",
   "mimetype": "text/x-python",
   "name": "python",
   "nbconvert_exporter": "python",
   "pygments_lexer": "ipython3",
   "version": "3.7.9"
  },
  "orig_nbformat": 4,
  "vscode": {
   "interpreter": {
    "hash": "41ab88648b975b718e681383398dbc83752b59ee1497f4637fc2e3354887f18f"
   }
  }
 },
 "nbformat": 4,
 "nbformat_minor": 2
}
