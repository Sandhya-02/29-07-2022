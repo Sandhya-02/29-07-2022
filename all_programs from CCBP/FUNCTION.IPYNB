{
 "cells": [
  {
   "cell_type": "markdown",
   "metadata": {},
   "source": [
    "### FUNCTION \n",
    "syntax : def function_name():\n",
    "              resuable code "
   ]
  },
  {
   "cell_type": "markdown",
   "metadata": {},
   "source": [
    "### DEFINING FUNCTION"
   ]
  },
  {
   "cell_type": "code",
   "execution_count": 1,
   "metadata": {},
   "outputs": [
    {
     "name": "stdout",
     "output_type": "stream",
     "text": [
      "tomato\n"
     ]
    }
   ],
   "source": [
    "def function_name():\n",
    "    print(\"hello\")\n",
    " #paina una code tho samandham ledu only   \n",
    "name = input()\n",
    "print(name)\n"
   ]
  },
  {
   "cell_type": "markdown",
   "metadata": {},
   "source": [
    "### CALLING FUNCTION"
   ]
  },
  {
   "cell_type": "code",
   "execution_count": 2,
   "metadata": {},
   "outputs": [
    {
     "name": "stdout",
     "output_type": "stream",
     "text": [
      "hello\n",
      "xyz\n"
     ]
    }
   ],
   "source": [
    "def function_name():\n",
    "    print(\"hello\")\n",
    "#function_name lo ediunte adhi ostundhi \n",
    "name = \"xyz\"\n",
    "function_name()\n",
    "print(name)"
   ]
  },
  {
   "cell_type": "markdown",
   "metadata": {},
   "source": [
    "### DEFINING AND CALLING A FUNCTION"
   ]
  },
  {
   "cell_type": "code",
   "execution_count": 3,
   "metadata": {},
   "outputs": [
    {
     "name": "stdout",
     "output_type": "stream",
     "text": [
      "30\n",
      "hello\n",
      "hello\n"
     ]
    }
   ],
   "source": [
    "def function_name():\n",
    "    print(\"hello\")\n",
    "\n",
    "a = 10\n",
    "b = 20\n",
    "c = a+b\n",
    "print(c)\n",
    "function_name()\n",
    "d = a-b\n",
    "\n",
    "function_name()"
   ]
  },
  {
   "cell_type": "code",
   "execution_count": null,
   "metadata": {},
   "outputs": [
    {
     "name": "stdout",
     "output_type": "stream",
     "text": [
      "30\n",
      "hello\n",
      "-10\n",
      "200\n",
      "0.5\n",
      "hello\n"
     ]
    }
   ],
   "source": [
    "def function_name():\n",
    "    print(\"hello\")\n",
    "a = 10\n",
    "b = 20\n",
    "c = a+b\n",
    "print(c)\n",
    "function_name()\n",
    "d = a-b\n",
    "e = a*b\n",
    "f = a/b\n",
    "print(d)\n",
    "print(e)\n",
    "print(f)\n",
    "function_name()"
   ]
  },
  {
   "cell_type": "code",
   "execution_count": 3,
   "metadata": {},
   "outputs": [
    {
     "name": "stdout",
     "output_type": "stream",
     "text": [
      "30\n",
      "hello\n",
      "-10\n",
      "200\n",
      "0.5\n",
      "hello\n"
     ]
    }
   ],
   "source": [
    "def function_name():\n",
    "    print(\"hello\")\n",
    "a = 10\n",
    "b = 20\n",
    "c = a+b\n",
    "print(c)\n",
    "function_name()\n",
    "d = a-b\n",
    "e = a*b\n",
    "f = a/b\n",
    "print(d)\n",
    "print(e)\n",
    "print(f)\n",
    "function_name()"
   ]
  },
  {
   "cell_type": "markdown",
   "metadata": {},
   "source": [
    "### PRINTING MESSAGE"
   ]
  },
  {
   "cell_type": "code",
   "execution_count": 4,
   "metadata": {},
   "outputs": [
    {
     "name": "stdout",
     "output_type": "stream",
     "text": [
      "hello python\n",
      "hellosandhya\n"
     ]
    }
   ],
   "source": [
    "def name():\n",
    "    mes = \"hello\"+\"sandhya\" 2\n",
    "    print(mes)\n",
    "message = \"hello python\"    1\n",
    "print(message)\n",
    "name()"
   ]
  },
  {
   "cell_type": "markdown",
   "metadata": {},
   "source": [
    "### FUNCTIONS WITH ARGUMENTS"
   ]
  },
  {
   "cell_type": "code",
   "execution_count": 6,
   "metadata": {},
   "outputs": [
    {
     "name": "stdout",
     "output_type": "stream",
     "text": [
      "sandhya\n",
      "helloarg\n"
     ]
    }
   ],
   "source": [
    "def function_name(asd):\n",
    "    greet = \"hello\"+\"arg\"\n",
    "    print(greet)\n",
    "name = \"sandhya\"\n",
    "print(name)\n",
    "function_name(name)"
   ]
  }
 ],
 "metadata": {
  "kernelspec": {
   "display_name": "Python 3.7.9 64-bit",
   "language": "python",
   "name": "python3"
  },
  "language_info": {
   "codemirror_mode": {
    "name": "ipython",
    "version": 3
   },
   "file_extension": ".py",
   "mimetype": "text/x-python",
   "name": "python",
   "nbconvert_exporter": "python",
   "pygments_lexer": "ipython3",
   "version": "3.7.9"
  },
  "orig_nbformat": 4,
  "vscode": {
   "interpreter": {
    "hash": "41ab88648b975b718e681383398dbc83752b59ee1497f4637fc2e3354887f18f"
   }
  }
 },
 "nbformat": 4,
 "nbformat_minor": 2
}
