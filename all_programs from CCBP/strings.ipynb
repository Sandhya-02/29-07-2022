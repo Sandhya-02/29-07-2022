{
 "cells": [
  {
   "cell_type": "markdown",
   "metadata": {},
   "source": [
    "you're given a word and an index position of a character. you need to write a program that prints the given word without the character at the given index."
   ]
  },
  {
   "cell_type": "code",
   "execution_count": 11,
   "metadata": {},
   "outputs": [
    {
     "name": "stdout",
     "output_type": "stream",
     "text": [
      "sandya\n"
     ]
    }
   ],
   "source": [
    "a = \"sandhya\"\n",
    "#    0123456 \n",
    "c = 4\n",
    "e = a[:c]\n",
    "b = a[c+1:]\n",
    "# print(b)\n",
    "# print(e)\n",
    "print(e+b)"
   ]
  },
  {
   "cell_type": "markdown",
   "metadata": {},
   "source": [
    "write a program to check if the given string is a valid password or not.a string is considered as a valid password if the number of characters present is greater than 7."
   ]
  },
  {
   "cell_type": "code",
   "execution_count": 14,
   "metadata": {},
   "outputs": [
    {
     "name": "stdout",
     "output_type": "stream",
     "text": [
      "10\n",
      "valid password\n"
     ]
    }
   ],
   "source": [
    "password = \"vasavi@123\"\n",
    "print(len(password))\n",
    "if len(password) > 7:\n",
    "    print(\"valid password\")\n",
    "else:\n",
    "    print(\"invalid password\")"
   ]
  },
  {
   "cell_type": "markdown",
   "metadata": {},
   "source": [
    "write a program which checks wheather the given number N is between 25 and 75"
   ]
  },
  {
   "cell_type": "code",
   "execution_count": 37,
   "metadata": {},
   "outputs": [
    {
     "name": "stdout",
     "output_type": "stream",
     "text": [
      "True\n"
     ]
    }
   ],
   "source": [
    "Num1 = int(input())\n",
    "if (Num1>25)and(Num1<75):\n",
    "    print(\"True\")\n",
    "else:\n",
    "    print(\"False\")"
   ]
  },
  {
   "cell_type": "code",
   "execution_count": 6,
   "metadata": {},
   "outputs": [
    {
     "name": "stdout",
     "output_type": "stream",
     "text": [
      "30\n",
      "10+20\n",
      "sandhyasandhyasandhyasandhya\n",
      "3.4\n",
      "3\n",
      "Sandhya Rani Rathlavth <sandhyarathlavath1@gmail.com>\n",
      "Fri, Jul 1, 7:07 PM (7 days ago)\n",
      "to Offer_update\n",
      "\n",
      "Greetings Dear Sir/Madam,\n",
      "\n",
      "I have received an email on 31 May stating that I  have cleared the interview round to receive a \n",
      "final job offer for the Systems Engineer role in Infosys Campus Recruitment Program.\n",
      " I would like to know the status of recruitment process. I can provide you any information required \n",
      " from my end to complete the recruit process, kindly let me know if i can be of any assistance, \n",
      "\n",
      "Awaiting for your response\n",
      "\n",
      "Thanks & Regards\n",
      "Sandhya Rani.R\n"
     ]
    }
   ],
   "source": [
    "print(10+20)\n",
    "print(\"10+20\")\n",
    "print(\"sandhya\"*4)\n",
    "print(17/5) # (5 is a divisor and 17 is a dividend)\n",
    "print(17//5)\n",
    "print(\"\"\"Sandhya Rani Rathlavth <sandhyarathlavath1@gmail.com>\n",
    "Fri, Jul 1, 7:07 PM (7 days ago)\n",
    "to Offer_update\n",
    "\n",
    "Greetings Dear Sir/Madam,\n",
    "\n",
    "I have received an email on 31 May stating that I  have cleared the interview round to receive a \n",
    "final job offer for the Systems Engineer role in Infosys Campus Recruitment Program.\n",
    " I would like to know the status of recruitment process. I can provide you any information required \n",
    " from my end to complete the recruit process, kindly let me know if i can be of any assistance, \n",
    "\n",
    "Awaiting for your response\n",
    "\n",
    "Thanks & Regards\n",
    "Sandhya Rani.R\"\"\")"
   ]
  }
 ],
 "metadata": {
  "kernelspec": {
   "display_name": "Python 3.7.9 64-bit",
   "language": "python",
   "name": "python3"
  },
  "language_info": {
   "codemirror_mode": {
    "name": "ipython",
    "version": 3
   },
   "file_extension": ".py",
   "mimetype": "text/x-python",
   "name": "python",
   "nbconvert_exporter": "python",
   "pygments_lexer": "ipython3",
   "version": "3.7.9"
  },
  "orig_nbformat": 4,
  "vscode": {
   "interpreter": {
    "hash": "41ab88648b975b718e681383398dbc83752b59ee1497f4637fc2e3354887f18f"
   }
  }
 },
 "nbformat": 4,
 "nbformat_minor": 2
}
