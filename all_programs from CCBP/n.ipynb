{
 "cells": [
  {
   "cell_type": "code",
   "execution_count": 5,
   "metadata": {},
   "outputs": [
    {
     "name": "stdout",
     "output_type": "stream",
     "text": [
      "a is a palindrome\n"
     ]
    }
   ],
   "source": [
    "a = \"sir\"\n",
    "if a[::-1]:\n",
    "    print(\"a is a palindrome\")\n",
    "else:\n",
    "    print(\"a is a non palindrome\")"
   ]
  },
  {
   "cell_type": "code",
   "execution_count": 7,
   "metadata": {},
   "outputs": [
    {
     "name": "stdout",
     "output_type": "stream",
     "text": [
      "yes\n"
     ]
    }
   ],
   "source": [
    "def rev(a):\n",
    "    s == s[::-1] \n",
    "    return s\n",
    "s = \"sir\"\n",
    "b = rev(a)\n",
    "if b:\n",
    "    print(\"yes\")\n",
    "else:\n",
    "    print(\"no\")"
   ]
  },
  {
   "cell_type": "code",
   "execution_count": 11,
   "metadata": {},
   "outputs": [
    {
     "name": "stdout",
     "output_type": "stream",
     "text": [
      "hellosandhya\n",
      "None\n"
     ]
    }
   ],
   "source": [
    "def function_name(arg1):\n",
    "    hi = \"hello\"+arg1\n",
    "    print(hi)\n",
    "    # return(hi)\n",
    "name = input()\n",
    "print(function_name(arg1=name))\n"
   ]
  },
  {
   "cell_type": "code",
   "execution_count": 20,
   "metadata": {},
   "outputs": [
    {
     "name": "stdout",
     "output_type": "stream",
     "text": [
      "mom\n",
      "true it's a palindrome\n"
     ]
    }
   ],
   "source": [
    "a = \"mom\"\n",
    "b = a[::-1]\n",
    "print(b)\n",
    "if a == b:\n",
    "    print(\"true it's a palindrome\")\n",
    "else:\n",
    "    print(\"false it's not a palindrome\")"
   ]
  },
  {
   "cell_type": "code",
   "execution_count": 21,
   "metadata": {},
   "outputs": [
    {
     "name": "stdout",
     "output_type": "stream",
     "text": [
      "sandhya\n",
      "ayhdnas\n"
     ]
    },
    {
     "data": {
      "text/plain": [
       "'ayhdnas'"
      ]
     },
     "execution_count": 21,
     "metadata": {},
     "output_type": "execute_result"
    }
   ],
   "source": [
    "def function(arg1):\n",
    "    a = arg1[::-1]\n",
    "    print(a) \n",
    "    return(a) \n",
    "name = str(input())\n",
    "print(name)\n",
    "function(arg1=name) "
   ]
  },
  {
   "cell_type": "code",
   "execution_count": null,
   "metadata": {},
   "outputs": [],
   "source": [
    "def reversed_name(name):\n",
    "    reversing_process = name[::-1]\n",
    "    print(reversing_process)\n",
    "reverse_in_string = str(input())\n",
    "if  reversing_process == reverse_in_string:\n",
    "    print(\"True,it's a palindrome\")\n",
    "else:\n",
    "    print(\"False,it's not palindrome\")\n",
    "reversed_name(name=reverse_in_string)"
   ]
  },
  {
   "cell_type": "code",
   "execution_count": null,
   "metadata": {},
   "outputs": [],
   "source": [
    "def function(a,b):\n",
    "    sum = a+b\n",
    "    print(sum)\n",
    "name1 = int(input())\n",
    "name2 = int(input())\n",
    "if sum >= 20:\n",
    "    print(\"true\")\n",
    "else:\n",
    "    print(\"false\")\n",
    "function(a=name1,b=name2)"
   ]
  },
  {
   "cell_type": "code",
   "execution_count": 2,
   "metadata": {},
   "outputs": [],
   "source": [
    "class sandhya:\n",
    "    def __init__(beauty,eyes,lips):\n",
    "        beauty.eyes = eyes\n",
    "        beauty.lips = lips\n",
    "    def calling(beauty,smile):\n",
    "        print(\"reminding\")"
   ]
  },
  {
   "cell_type": "code",
   "execution_count": null,
   "metadata": {},
   "outputs": [],
   "source": [
    "mobile_obj = moblie(\"galaxy M51\",\"64 Mp\") \n",
    "print(mobile_obj)"
   ]
  },
  {
   "cell_type": "code",
   "execution_count": 6,
   "metadata": {},
   "outputs": [
    {
     "name": "stdout",
     "output_type": "stream",
     "text": [
      "galaxy M51\n",
      "M64\n",
      "calling\n"
     ]
    }
   ],
   "source": [
    "class mobile:\n",
    "    def __init__ (self,model,camera,sandhya):\n",
    "        self.model = model\n",
    "        self.camera = camera\n",
    "        self.sandhya = sandhya\n",
    "obj1 = mobile(\"galaxy M51\",\"M64\",\"calling\")\n",
    "print(obj1.model)\n",
    "print(obj1.camera)\n",
    "print(obj1.sandhya)"
   ]
  },
  {
   "cell_type": "code",
   "execution_count": 13,
   "metadata": {},
   "outputs": [
    {
     "ename": "NameError",
     "evalue": "name 'self' is not defined",
     "output_type": "error",
     "traceback": [
      "\u001b[1;31m---------------------------------------------------------------------------\u001b[0m",
      "\u001b[1;31mNameError\u001b[0m                                 Traceback (most recent call last)",
      "\u001b[1;32m<ipython-input-13-2de64f680125>\u001b[0m in \u001b[0;36m<module>\u001b[1;34m\u001b[0m\n\u001b[0;32m     12\u001b[0m \u001b[0mcart_obj\u001b[0m \u001b[1;33m=\u001b[0m \u001b[0mcart\u001b[0m\u001b[1;33m(\u001b[0m\u001b[1;33m)\u001b[0m\u001b[1;33m\u001b[0m\u001b[1;33m\u001b[0m\u001b[0m\n\u001b[0;32m     13\u001b[0m \u001b[0mcart_obj\u001b[0m\u001b[1;33m.\u001b[0m\u001b[0madd_item\u001b[0m\u001b[1;33m(\u001b[0m\u001b[1;34m\"book\"\u001b[0m\u001b[1;33m,\u001b[0m\u001b[1;36m10\u001b[0m\u001b[1;33m)\u001b[0m\u001b[1;33m\u001b[0m\u001b[1;33m\u001b[0m\u001b[0m\n\u001b[1;32m---> 14\u001b[1;33m \u001b[0mcart_obj\u001b[0m\u001b[1;33m.\u001b[0m\u001b[0mget_items\u001b[0m\u001b[1;33m(\u001b[0m\u001b[1;34m\"sandhya\"\u001b[0m\u001b[1;33m)\u001b[0m\u001b[1;33m\u001b[0m\u001b[1;33m\u001b[0m\u001b[0m\n\u001b[0m",
      "\u001b[1;32m<ipython-input-13-2de64f680125>\u001b[0m in \u001b[0;36mget_items\u001b[1;34m(Self, name)\u001b[0m\n\u001b[0;32m      7\u001b[0m \u001b[1;33m\u001b[0m\u001b[0m\n\u001b[0;32m      8\u001b[0m     \u001b[1;32mdef\u001b[0m \u001b[0mget_items\u001b[0m\u001b[1;33m(\u001b[0m\u001b[0mSelf\u001b[0m\u001b[1;33m,\u001b[0m\u001b[0mname\u001b[0m\u001b[1;33m)\u001b[0m\u001b[1;33m:\u001b[0m\u001b[1;33m\u001b[0m\u001b[1;33m\u001b[0m\u001b[0m\n\u001b[1;32m----> 9\u001b[1;33m         \u001b[0mself\u001b[0m\u001b[1;33m.\u001b[0m\u001b[0mname\u001b[0m \u001b[1;33m=\u001b[0m \u001b[0mname\u001b[0m\u001b[1;33m\u001b[0m\u001b[1;33m\u001b[0m\u001b[0m\n\u001b[0m\u001b[0;32m     10\u001b[0m         \u001b[0mprint\u001b[0m\u001b[1;33m(\u001b[0m\u001b[0mself\u001b[0m\u001b[1;33m.\u001b[0m\u001b[0mname\u001b[0m\u001b[1;33m)\u001b[0m\u001b[1;33m\u001b[0m\u001b[1;33m\u001b[0m\u001b[0m\n\u001b[0;32m     11\u001b[0m \u001b[1;33m\u001b[0m\u001b[0m\n",
      "\u001b[1;31mNameError\u001b[0m: name 'self' is not defined"
     ]
    },
    {
     "ename": "",
     "evalue": "",
     "output_type": "error",
     "traceback": [
      "\u001b[1;31mThe Kernel crashed while executing code in the the current cell or a previous cell. Please review the code in the cell(s) to identify a possible cause of the failure. Click <a href='https://aka.ms/vscodeJupyterKernelCrash'>here</a> for more info. View Jupyter <a href='command:jupyter.viewOutput'>log</a> for further details."
     ]
    }
   ],
   "source": [
    "class cart:\n",
    "    def __init__(self):\n",
    "        self.items = {}\n",
    "\n",
    "    def add_item(self,item_name,quantity):\n",
    "        self.items[item_name] = quantity\n",
    "\n",
    "    def get_items(Self,name):\n",
    "        self.name = name\n",
    "        print(self.name)\n",
    "\n",
    "cart_obj = cart()\n",
    "cart_obj.add_item(\"book\",10)\n",
    "cart_obj.get_items(\"sandhya\")\n"
   ]
  }
 ],
 "metadata": {
  "kernelspec": {
   "display_name": "Python 3.7.9 64-bit",
   "language": "python",
   "name": "python3"
  },
  "language_info": {
   "codemirror_mode": {
    "name": "ipython",
    "version": 3
   },
   "file_extension": ".py",
   "mimetype": "text/x-python",
   "name": "python",
   "nbconvert_exporter": "python",
   "pygments_lexer": "ipython3",
   "version": "3.7.9"
  },
  "orig_nbformat": 4,
  "vscode": {
   "interpreter": {
    "hash": "41ab88648b975b718e681383398dbc83752b59ee1497f4637fc2e3354887f18f"
   }
  }
 },
 "nbformat": 4,
 "nbformat_minor": 2
}
