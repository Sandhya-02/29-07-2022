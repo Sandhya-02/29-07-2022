{
 "cells": [
  {
   "cell_type": "code",
   "execution_count": 80,
   "metadata": {},
   "outputs": [
    {
     "ename": "ValueError",
     "evalue": "invalid literal for int() with base 10: ''",
     "output_type": "error",
     "traceback": [
      "\u001b[1;31m---------------------------------------------------------------------------\u001b[0m",
      "\u001b[1;31mValueError\u001b[0m                                Traceback (most recent call last)",
      "\u001b[1;32m<ipython-input-80-f5377a7493e8>\u001b[0m in \u001b[0;36m<module>\u001b[1;34m\u001b[0m\n\u001b[1;32m----> 1\u001b[1;33m \u001b[0mnum\u001b[0m \u001b[1;33m=\u001b[0m \u001b[0mint\u001b[0m\u001b[1;33m(\u001b[0m\u001b[0minput\u001b[0m\u001b[1;33m(\u001b[0m\u001b[1;33m)\u001b[0m\u001b[1;33m)\u001b[0m\u001b[1;33m\u001b[0m\u001b[1;33m\u001b[0m\u001b[0m\n\u001b[0m\u001b[0;32m      2\u001b[0m \u001b[1;32mif\u001b[0m \u001b[0mnum\u001b[0m\u001b[1;33m%\u001b[0m\u001b[1;36m2\u001b[0m \u001b[1;33m==\u001b[0m \u001b[1;36m0\u001b[0m\u001b[1;33m:\u001b[0m\u001b[1;33m\u001b[0m\u001b[1;33m\u001b[0m\u001b[0m\n\u001b[0;32m      3\u001b[0m     \u001b[0mprint\u001b[0m\u001b[1;33m(\u001b[0m\u001b[1;34m\"True\"\u001b[0m\u001b[1;33m)\u001b[0m\u001b[1;33m\u001b[0m\u001b[1;33m\u001b[0m\u001b[0m\n\u001b[0;32m      4\u001b[0m \u001b[1;32melse\u001b[0m\u001b[1;33m:\u001b[0m\u001b[1;33m\u001b[0m\u001b[1;33m\u001b[0m\u001b[0m\n\u001b[0;32m      5\u001b[0m     \u001b[0mprint\u001b[0m\u001b[1;33m(\u001b[0m\u001b[1;34m\"False\"\u001b[0m\u001b[1;33m)\u001b[0m\u001b[1;33m\u001b[0m\u001b[1;33m\u001b[0m\u001b[0m\n",
      "\u001b[1;31mValueError\u001b[0m: invalid literal for int() with base 10: ''"
     ]
    }
   ],
   "source": [
    "num = int(input())\n",
    "if num%2 == 0:\n",
    "    print(\"True\")\n",
    "else:\n",
    "    print(\"False\")"
   ]
  },
  {
   "cell_type": "code",
   "execution_count": null,
   "metadata": {},
   "outputs": [
    {
     "name": "stdout",
     "output_type": "stream",
     "text": [
      "<class 'str'>\n",
      "7\n"
     ]
    }
   ],
   "source": [
    "num1 = int(input())\n",
    "num1 = str(num1)\n",
    "print(type(num1))\n",
    "first_num = int(num1[0])\n",
    "second_num = int(num1[1])\n",
    "print(first_num+second_num)"
   ]
  },
  {
   "cell_type": "code",
   "execution_count": null,
   "metadata": {},
   "outputs": [
    {
     "name": "stdout",
     "output_type": "stream",
     "text": [
      "y\n",
      "1\n"
     ]
    }
   ],
   "source": [
    "name = \"sandhya\"\n",
    "print(name[5])\n",
    "num = 10\n",
    "num1 = str(num)\n",
    "print(num1[0])"
   ]
  },
  {
   "cell_type": "code",
   "execution_count": null,
   "metadata": {},
   "outputs": [
    {
     "name": "stdout",
     "output_type": "stream",
     "text": [
      "<class 'str'>\n",
      "<class 'str'>\n",
      "7\n",
      "special number\n",
      "special number1\n",
      "special number2\n"
     ]
    }
   ],
   "source": [
    "number = 70\n",
    "firstnum=str(number)\n",
    "secondnum=str(number)\n",
    "print(type(firstnum))\n",
    "print(type(secondnum))\n",
    "int1 = firstnum[0]\n",
    "int2 = secondnum[1]\n",
    "int3 = (int(int1)+int(int2))\n",
    "print(int3)\n",
    "if int3 == 7:\n",
    "    print(\"special number\")\n",
    "else:\n",
    "    print(\"normal number\")\n",
    "if int1 == 7 or int3  == 7:\n",
    "    print(\"special number1\")\n",
    "else:\n",
    "    print(\"normal number1\") \n",
    "if number%7 == 0:\n",
    "    print(\"special number2\")\n",
    "else:\n",
    "    print(\"normal number\")"
   ]
  },
  {
   "cell_type": "code",
   "execution_count": null,
   "metadata": {},
   "outputs": [
    {
     "name": "stdout",
     "output_type": "stream",
     "text": [
      "<class 'str'>\n",
      "<class 'str'>\n",
      "7\n",
      "special number\n"
     ]
    }
   ],
   "source": [
    "number = 70\n",
    "firstnum=str(number)\n",
    "secondnum=str(number)\n",
    "print(type(firstnum))\n",
    "print(type(secondnum))\n",
    "int1 = firstnum[0]\n",
    "int2 = secondnum[1]\n",
    "int3 = (int(int1)+int(int2))\n",
    "print(int3)\n",
    "if int3 == 7:\n",
    "    print(\"special number\")\n",
    "elif int1 == 7 or int3  == 7:\n",
    "    print(\"special number1\") \n",
    "elif number%7 == 0:\n",
    "    print(\"special number2\")\n",
    "else:\n",
    "    print(\"normal number\")\n"
   ]
  },
  {
   "cell_type": "code",
   "execution_count": null,
   "metadata": {},
   "outputs": [
    {
     "name": "stdout",
     "output_type": "stream",
     "text": [
      "1\n"
     ]
    }
   ],
   "source": [
    "a = int(input())\n",
    "b = int(input())\n",
    "c = a%b\n",
    "d = b%a\n",
    "if c<d:\n",
    "    print(c)\n",
    "else:\n",
    "    print(d)"
   ]
  },
  {
   "cell_type": "code",
   "execution_count": null,
   "metadata": {},
   "outputs": [
    {
     "name": "stdout",
     "output_type": "stream",
     "text": [
      "1000\n",
      "False\n"
     ]
    }
   ],
   "source": [
    "N = int(input())\n",
    "print(N)\n",
    "if N%43 == 0:\n",
    "    print(\"True\")\n",
    "else:\n",
    "    print(\"False\")"
   ]
  },
  {
   "cell_type": "code",
   "execution_count": null,
   "metadata": {},
   "outputs": [
    {
     "name": "stdout",
     "output_type": "stream",
     "text": [
      "12 5\n",
      "13\n"
     ]
    }
   ],
   "source": [
    "first_line = int(input(\"enter a value:\"))\n",
    "second_line = int(input(\"enter a value:\"))\n",
    "print(first_line,second_line)\n",
    "third_line = (first_line**2 + second_line**2)\n",
    "print(int(third_line**0.5))"
   ]
  },
  {
   "cell_type": "markdown",
   "metadata": {},
   "source": [
    "###\n",
    "Armstrong number"
   ]
  },
  {
   "cell_type": "code",
   "execution_count": null,
   "metadata": {},
   "outputs": [
    {
     "name": "stdout",
     "output_type": "stream",
     "text": [
      "153\n",
      "Not a Armstrong no.\n"
     ]
    }
   ],
   "source": [
    "number = input(\"enter a number:\")\n",
    "print(number)\n",
    "n = len(number)\n",
    "temp =int(number)\n",
    "sum = 0\n",
    "while temp > 0:\n",
    "    rem = (temp % 10)**2\n",
    "    temp = temp // 10\n",
    "\n",
    "if sum == int(num):\n",
    "    print(\"Armstrong no.\")\n",
    "else:\n",
    "    print(\"Not a Armstrong no.\") "
   ]
  },
  {
   "cell_type": "code",
   "execution_count": null,
   "metadata": {},
   "outputs": [
    {
     "name": "stdout",
     "output_type": "stream",
     "text": [
      "153\n",
      "<class 'int'>\n",
      "3\n"
     ]
    }
   ],
   "source": [
    "n = 153\n",
    "s = n \n",
    "print(s)  \n",
    "b = len(str(n))\n",
    "print(type(b))\n",
    "print(b)\n",
    "sum = 0\n",
    "while n != 0:"
   ]
  },
  {
   "cell_type": "code",
   "execution_count": null,
   "metadata": {},
   "outputs": [
    {
     "name": "stdout",
     "output_type": "stream",
     "text": [
      "11\n",
      "12\n",
      "13\n",
      "14\n",
      "15\n",
      "end\n"
     ]
    }
   ],
   "source": [
    "n = 10\n",
    "counter = 0\n",
    "while counter < 5:\n",
    "    n = n+1\n",
    "    print(n)\n",
    "    counter = counter+1\n",
    "print(\"end\")\n"
   ]
  },
  {
   "cell_type": "code",
   "execution_count": null,
   "metadata": {},
   "outputs": [
    {
     "name": "stdout",
     "output_type": "stream",
     "text": [
      "7\n",
      "8\n",
      "9\n",
      "10\n",
      "11\n",
      "12\n",
      "13\n",
      "end\n"
     ]
    }
   ],
   "source": [
    "a = 6\n",
    "count = 0\n",
    "while count < 7:\n",
    "    a = int(a+1)\n",
    "    print(a)\n",
    "    count = count+1\n",
    "    \n",
    "print(\"end\")"
   ]
  },
  {
   "cell_type": "code",
   "execution_count": 83,
   "metadata": {},
   "outputs": [
    {
     "name": "stdout",
     "output_type": "stream",
     "text": [
      "#####\n",
      "#####\n",
      "#####\n",
      "#####\n",
      "#####\n"
     ]
    }
   ],
   "source": [
    "a = 5\n",
    "count = 0\n",
    "while count<a:\n",
    "    print(\"#\"*a)\n",
    "    count = count +1\n"
   ]
  },
  {
   "cell_type": "code",
   "execution_count": 89,
   "metadata": {},
   "outputs": [
    {
     "name": "stdout",
     "output_type": "stream",
     "text": [
      "153\n",
      "3\n",
      "<class 'int'>\n",
      "1\n",
      "153\n",
      "0\n",
      "armstrong\n"
     ]
    }
   ],
   "source": [
    "n = 153\n",
    "s = n\n",
    "print(s)\n",
    "a = len(str(n))\n",
    "print(a)\n",
    "print(type(a))\n",
    "count = 0\n",
    "while n != 0:\n",
    "    rem = n % 10\n",
    "    count = count+(rem ** a)\n",
    "    n = n//10\n",
    "print(rem)\n",
    "print(count)\n",
    "print(n)\n",
    "if s == count:\n",
    "    print(\"armstrong\")\n",
    "else:\n",
    "    print(\"not armstrong\")"
   ]
  },
  {
   "cell_type": "code",
   "execution_count": null,
   "metadata": {},
   "outputs": [],
   "source": [
    "a = str(input())\n",
    "b = a[0:2]\n",
    "c = a[-2:]\n",
    "d = len(a)\n",
    "print(d)\n",
    "e = int(d-3(\"*\"))\n",
    "print(e)\n",
    "print(b)\n",
    "print(c)\n",
    "print(b+\"***\"+c)\n"
   ]
  },
  {
   "cell_type": "code",
   "execution_count": 130,
   "metadata": {},
   "outputs": [
    {
     "name": "stdout",
     "output_type": "stream",
     "text": [
      "ok ay\n",
      "d= \n",
      "okay\n"
     ]
    }
   ],
   "source": [
    "a = str(input())\n",
    "\n",
    "if len(a)<4:\n",
    "    print(\"can't print first two digit and last two digit\")\n",
    "else:\n",
    "    b = a[0:2]\n",
    "    c = a[-2:]\n",
    "    print(b,c)\n",
    "    e = (len(a))\n",
    "    d = (\"*\"*(e-4))\n",
    "    print(\"d=\",d)\n",
    "    print(b+d+c)"
   ]
  },
  {
   "cell_type": "code",
   "execution_count": 145,
   "metadata": {},
   "outputs": [
    {
     "name": "stdout",
     "output_type": "stream",
     "text": [
      "6\n",
      "mo\n",
      "ey\n",
      "2\n",
      "**\n",
      "mo**ey\n"
     ]
    }
   ],
   "source": [
    "string = input()\n",
    "print(len(string))\n",
    "a = string[0:2]\n",
    "print(a)\n",
    "b = string[-2:]\n",
    "print(b)\n",
    "string2 = (len(string)-4)\n",
    "print(string2)\n",
    "string3 = (\"*\"*string2)\n",
    "print(string3)\n",
    "print(a+string3+b)\n"
   ]
  },
  {
   "cell_type": "code",
   "execution_count": null,
   "metadata": {},
   "outputs": [],
   "source": [
    "\"\"\"Eligibility Criteria-1\"\"\""
   ]
  },
  {
   "cell_type": "code",
   "execution_count": 1,
   "metadata": {},
   "outputs": [
    {
     "name": "stdout",
     "output_type": "stream",
     "text": [
      "135\n",
      "False\n"
     ]
    }
   ],
   "source": [
    "m = int(input())\n",
    "p = int(input())\n",
    "c = int(input())\n",
    "total = m+p+c\n",
    "print(total)\n",
    "if total >= 180:\n",
    "    print(\"True\")\n",
    "else:\n",
    "    print(\"False\")"
   ]
  },
  {
   "cell_type": "code",
   "execution_count": 9,
   "metadata": {},
   "outputs": [
    {
     "name": "stdout",
     "output_type": "stream",
     "text": [
      "82 55 45\n",
      "True\n"
     ]
    }
   ],
   "source": [
    "M = int(input())\n",
    "P = int(input())\n",
    "C = int(input())\n",
    "print(M,P,C)\n",
    "a = M+P\n",
    "b = M+c\n",
    "c = M+p+C\n",
    "if ((a >= 100) or (b >= 100))and (c >= 180):\n",
    "    print(\"True\")\n",
    "else:\n",
    "    print(\"False\")"
   ]
  },
  {
   "cell_type": "code",
   "execution_count": 8,
   "metadata": {},
   "outputs": [
    {
     "name": "stdout",
     "output_type": "stream",
     "text": [
      "True\n"
     ]
    }
   ],
   "source": [
    "m = int(input())\n",
    "p = int(input())\n",
    "c = int(input())\n",
    "a = m+p\n",
    "b = m+c\n",
    "d = m+p+c\n",
    "if ((a >= 100) or (b >= 100)) and (d >= 180):\n",
    "    print(\"True\")\n",
    "else:\n",
    "    print(\"False\")"
   ]
  },
  {
   "cell_type": "code",
   "execution_count": 12,
   "metadata": {},
   "outputs": [
    {
     "name": "stdout",
     "output_type": "stream",
     "text": [
      "35 35 100\n",
      "True\n"
     ]
    }
   ],
   "source": [
    "m = int(input())\n",
    "p = int(input())\n",
    "c = int(input())\n",
    "print(m,p,c)\n",
    "if (((m>=35) or (p>=35)) or (c>=35)) and (m+c >= 90):\n",
    "    print(\"True\")\n",
    "else:\n",
    "    print(\"False\")"
   ]
  },
  {
   "cell_type": "code",
   "execution_count": 15,
   "metadata": {},
   "outputs": [
    {
     "name": "stdout",
     "output_type": "stream",
     "text": [
      "70 0 70\n",
      "False\n"
     ]
    }
   ],
   "source": [
    "m = int(input())\n",
    "p = int(input())\n",
    "c = int(input())\n",
    "print(m,p,c)\n",
    "v = m+p+c\n",
    "if ((m >= 60) or (p >= 50) or (c >= 45) and(v >= 180)) and ((m+p >= 120) or (c+p >= 110)):\n",
    "    print(\"True\")\n",
    "else:\n",
    "    print(\"False\")\n"
   ]
  }
 ],
 "metadata": {
  "kernelspec": {
   "display_name": "Python 3.7.9 64-bit",
   "language": "python",
   "name": "python3"
  },
  "language_info": {
   "codemirror_mode": {
    "name": "ipython",
    "version": 3
   },
   "file_extension": ".py",
   "mimetype": "text/x-python",
   "name": "python",
   "nbconvert_exporter": "python",
   "pygments_lexer": "ipython3",
   "version": "3.7.9"
  },
  "orig_nbformat": 4,
  "vscode": {
   "interpreter": {
    "hash": "41ab88648b975b718e681383398dbc83752b59ee1497f4637fc2e3354887f18f"
   }
  }
 },
 "nbformat": 4,
 "nbformat_minor": 2
}
