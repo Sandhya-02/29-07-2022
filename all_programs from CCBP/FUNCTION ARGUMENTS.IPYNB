{
 "cells": [
  {
   "cell_type": "markdown",
   "metadata": {},
   "source": [
    "### FUNCTIONS WITH ARGUMENTS\n",
    "syntax:  def function_name(argu):\n",
    "                resuable code"
   ]
  },
  {
   "cell_type": "code",
   "execution_count": 2,
   "metadata": {},
   "outputs": [
    {
     "name": "stdout",
     "output_type": "stream",
     "text": [
      "word\n",
      "helloword\n"
     ]
    }
   ],
   "source": [
    "def function_name(argu):\n",
    "    print(\"hello\"+argu)\n",
    "function = \"word\"\n",
    "print(function)\n",
    "function_name(argu=function)"
   ]
  },
  {
   "cell_type": "code",
   "execution_count": 3,
   "metadata": {},
   "outputs": [
    {
     "name": "stdout",
     "output_type": "stream",
     "text": [
      "sandhyarathlavath\n"
     ]
    }
   ],
   "source": [
    "def function_name(argu1,argu2):\n",
    "    name = argu1+argu2\n",
    "    print(name)\n",
    "function1 = \"sandhya\"\n",
    "function2 = \"rathlavath\"\n",
    "function_name(argu1=function1,argu2=function2)"
   ]
  },
  {
   "cell_type": "code",
   "execution_count": 9,
   "metadata": {},
   "outputs": [
    {
     "name": "stdout",
     "output_type": "stream",
     "text": [
      "ghansiram majula\n"
     ]
    }
   ],
   "source": [
    "def function_name(arg1,arg2):\n",
    "    couple = arg1+ \" \" +arg2\n",
    "    print(couple)\n",
    "function = input()\n",
    "function1 = input()\n",
    "function_name(arg1 = function,arg2 = function1)"
   ]
  },
  {
   "cell_type": "markdown",
   "metadata": {},
   "source": [
    "### VARIABLES INSIDE A FUNCTION"
   ]
  },
  {
   "cell_type": "code",
   "execution_count": 13,
   "metadata": {},
   "outputs": [
    {
     "name": "stdout",
     "output_type": "stream",
     "text": [
      "sorry\n",
      "i am sorry\n"
     ]
    }
   ],
   "source": [
    "def function_name(arg1):\n",
    "    request = \"i am\" +\" \"+ arg1\n",
    "    print(request)\n",
    "person = input()\n",
    "print(person)\n",
    "function_name(arg1=person)"
   ]
  },
  {
   "cell_type": "markdown",
   "metadata": {},
   "source": [
    "### RETURNING A VALUE\n",
    "def function_name(argu):\n",
    "      reusable code\n",
    "      return value"
   ]
  },
  {
   "cell_type": "code",
   "execution_count": 27,
   "metadata": {},
   "outputs": [
    {
     "name": "stdout",
     "output_type": "stream",
     "text": [
      "rani\n",
      "sandhyarani\n"
     ]
    },
    {
     "data": {
      "text/plain": [
       "'sandhyarani'"
      ]
     },
     "execution_count": 27,
     "metadata": {},
     "output_type": "execute_result"
    }
   ],
   "source": [
    "def function_name(arg):\n",
    "    family = \"sandhya\"+arg\n",
    "    print(family)\n",
    "    return family\n",
    "name = \"rani\"\n",
    "print(name)\n",
    "function_name(arg=name)"
   ]
  },
  {
   "cell_type": "code",
   "execution_count": 29,
   "metadata": {},
   "outputs": [
    {
     "name": "stdout",
     "output_type": "stream",
     "text": [
      "hello\n",
      "python\n",
      "hellopython\n"
     ]
    },
    {
     "data": {
      "text/plain": [
       "'hellopython'"
      ]
     },
     "execution_count": 29,
     "metadata": {},
     "output_type": "execute_result"
    }
   ],
   "source": [
    "def name(arg1,arg2):\n",
    "    name_1 = arg1+arg2\n",
    "    print(name_1)\n",
    "    # return(name)\n",
    "    return(name_1)\n",
    "name1 = \"hello\"\n",
    "name2 = \"python\"\n",
    "print(name1)\n",
    "print(name2)\n",
    "name(arg1=name1,arg2=name2)\n"
   ]
  },
  {
   "cell_type": "code",
   "execution_count": 34,
   "metadata": {},
   "outputs": [
    {
     "name": "stdout",
     "output_type": "stream",
     "text": [
      "sandhyarani\n"
     ]
    }
   ],
   "source": [
    "def function_name(args):\n",
    "    hi = \"sandhya\"+args\n",
    "    print(hi)\n",
    "    return (hi)\n",
    "name =\"rani\"\n",
    "fun =function_name(args = name)"
   ]
  },
  {
   "cell_type": "markdown",
   "metadata": {},
   "source": [
    "### FUNCTION_ARGUMENTS"
   ]
  },
  {
   "cell_type": "markdown",
   "metadata": {},
   "source": [
    "Three types of arguments \n",
    "1.keyword arguments\n",
    "2.postional arguments\n",
    "3.default arguments"
   ]
  },
  {
   "cell_type": "markdown",
   "metadata": {},
   "source": [
    "### KEYWORD ARGUMENT()"
   ]
  },
  {
   "cell_type": "code",
   "execution_count": 42,
   "metadata": {},
   "outputs": [
    {
     "name": "stdout",
     "output_type": "stream",
     "text": [
      "sandhyarathlavath\n",
      "rathlavathsandhya\n"
     ]
    }
   ],
   "source": [
    "def function_name(arg1,arg2):\n",
    "    arg3 = arg1+arg2 \n",
    "    print(arg3)\n",
    "name1 = \"sandhya\"\n",
    "name2 = \"rathlavath\"\n",
    "function_name(arg1=name1,arg2=name2)\n",
    "function_name(arg1=name2,arg2=name1)"
   ]
  },
  {
   "cell_type": "markdown",
   "metadata": {},
   "source": [
    "### POSITIONAL ARGUMENT() "
   ]
  },
  {
   "cell_type": "code",
   "execution_count": 48,
   "metadata": {},
   "outputs": [
    {
     "name": "stdout",
     "output_type": "stream",
     "text": [
      "hyderabad bangalore\n",
      "hyderabad bangalore\n",
      "bangalore hyderabad\n",
      "hyderabad bangalore\n"
     ]
    }
   ],
   "source": [
    "def function_name(arg1,arg2):\n",
    "    arg3 = arg1+\" \"+arg2\n",
    "    print(arg3)\n",
    "name1 = \"hyderabad\"\n",
    "name2 = \"bangalore\"\n",
    "function_name(name1,name2)\n",
    "#?  keyword argument\n",
    "function_name(arg1=name1,arg2=name2)\n",
    "function_name(arg2=name1,arg1=name2)\n",
    "#?  positional argument\n",
    "function_name(name1,name2)"
   ]
  }
 ],
 "metadata": {
  "kernelspec": {
   "display_name": "Python 3.7.9 64-bit",
   "language": "python",
   "name": "python3"
  },
  "language_info": {
   "codemirror_mode": {
    "name": "ipython",
    "version": 3
   },
   "file_extension": ".py",
   "mimetype": "text/x-python",
   "name": "python",
   "nbconvert_exporter": "python",
   "pygments_lexer": "ipython3",
   "version": "3.7.9"
  },
  "orig_nbformat": 4,
  "vscode": {
   "interpreter": {
    "hash": "41ab88648b975b718e681383398dbc83752b59ee1497f4637fc2e3354887f18f"
   }
  }
 },
 "nbformat": 4,
 "nbformat_minor": 2
}
