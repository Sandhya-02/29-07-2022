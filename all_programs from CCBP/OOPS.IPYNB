{
 "cells": [
  {
   "cell_type": "code",
   "execution_count": null,
   "metadata": {},
   "outputs": [],
   "source": [
    "class mobile(self,name,age,college):\n",
    "    self.name = name\n",
    "    self.age = age\n",
    "    self.college = college\n",
    "def information(self,\"sandhya\",\"32\",\"vasavi college of engineering\"):\n",
    "    print\n"
   ]
  },
  {
   "cell_type": "markdown",
   "metadata": {},
   "source": [
    "### class object::: is asimply a collection of attributes and methods that act on those data"
   ]
  },
  {
   "cell_type": "code",
   "execution_count": 1,
   "metadata": {},
   "outputs": [
    {
     "name": "stdout",
     "output_type": "stream",
     "text": [
      "<__main__.student object at 0x00000279C31BFB48>\n"
     ]
    }
   ],
   "source": [
    "class student:\n",
    "    def __init__ (self,name,age,college):\n",
    "        self.name = name\n",
    "        self.age = age\n",
    "        self.college = college\n",
    "    def information(self):\n",
    "        print(\"information_of_student\")\n",
    "class_obj = student(\"sandhya\",22,\"vasavi college of egineering\")\n",
    "print(class_obj)"
   ]
  },
  {
   "cell_type": "markdown",
   "metadata": {},
   "source": [
    "### method arguments and return values"
   ]
  },
  {
   "cell_type": "code",
   "execution_count": 7,
   "metadata": {},
   "outputs": [],
   "source": [
    "class mobile:\n",
    "    def __init__ (self,model,camera):\n",
    "        self.model = model\n",
    "        self.camera = camera\n",
    "    def make_call (self,number):\n",
    "        return \"calling........{}\",format(number)\n",
    "# class_obj = mobile(\"galaxy M51\",\"64Mp\")\n",
    "# print(class_obj)"
   ]
  },
  {
   "cell_type": "markdown",
   "metadata": {},
   "source": [
    "### Method of class\n",
    "1. instance methods\n",
    "2. class methods\n",
    "3. static methods\n"
   ]
  },
  {
   "cell_type": "markdown",
   "metadata": {},
   "source": [
    "### instance methods"
   ]
  },
  {
   "cell_type": "code",
   "execution_count": 11,
   "metadata": {},
   "outputs": [
    {
     "ename": "NameError",
     "evalue": "name 'make_call' is not defined",
     "output_type": "error",
     "traceback": [
      "\u001b[1;31m---------------------------------------------------------------------------\u001b[0m",
      "\u001b[1;31mNameError\u001b[0m                                 Traceback (most recent call last)",
      "\u001b[1;32m<ipython-input-11-3ea52149551a>\u001b[0m in \u001b[0;36m<module>\u001b[1;34m\u001b[0m\n\u001b[0;32m      6\u001b[0m         \u001b[0mprint\u001b[0m\u001b[1;33m(\u001b[0m\u001b[1;34m\"calling.......{}\"\u001b[0m\u001b[1;33m)\u001b[0m\u001b[1;33m\u001b[0m\u001b[1;33m\u001b[0m\u001b[0m\n\u001b[0;32m      7\u001b[0m \u001b[0mteddy_obj\u001b[0m \u001b[1;33m=\u001b[0m \u001b[0mteddy\u001b[0m\u001b[1;33m(\u001b[0m\u001b[1;34m\"teddybear\"\u001b[0m\u001b[1;33m,\u001b[0m\u001b[1;34m\"yellow\"\u001b[0m\u001b[1;33m)\u001b[0m\u001b[1;33m\u001b[0m\u001b[1;33m\u001b[0m\u001b[0m\n\u001b[1;32m----> 8\u001b[1;33m \u001b[0mteddy_obj1\u001b[0m \u001b[1;33m=\u001b[0m \u001b[0mmake_call\u001b[0m\u001b[1;33m(\u001b[0m\u001b[1;34m\"YELLOW\"\u001b[0m\u001b[1;33m)\u001b[0m\u001b[1;33m\u001b[0m\u001b[1;33m\u001b[0m\u001b[0m\n\u001b[0m\u001b[0;32m      9\u001b[0m \u001b[0mprint\u001b[0m\u001b[1;33m(\u001b[0m\u001b[0mteddy_obj1\u001b[0m\u001b[1;33m)\u001b[0m\u001b[1;33m\u001b[0m\u001b[1;33m\u001b[0m\u001b[0m\n",
      "\u001b[1;31mNameError\u001b[0m: name 'make_call' is not defined"
     ]
    }
   ],
   "source": [
    "class teddy:\n",
    "    def __init__ (self,toy,color):\n",
    "        self.toy = toy\n",
    "        self.color = color\n",
    "    def make_call(self,cute):\n",
    "        print(\"calling.......{}\")\n",
    "teddy_obj = teddy(\"teddybear\",\"yellow\")\n",
    "teddy_obj1 = make_call(\"YELLOW\")\n",
    "print(teddy_obj1)"
   ]
  },
  {
   "cell_type": "markdown",
   "metadata": {},
   "source": [
    "### types of object\n"
   ]
  },
  {
   "cell_type": "code",
   "execution_count": 13,
   "metadata": {},
   "outputs": [
    {
     "name": "stdout",
     "output_type": "stream",
     "text": [
      "<class '__main__.mobile'>\n"
     ]
    }
   ],
   "source": [
    "obj_1 = mobile(\"galaxy24\",\"64mp\")\n",
    "print(type(obj_1))"
   ]
  },
  {
   "cell_type": "markdown",
   "metadata": {},
   "source": [
    "### Multiple instances:"
   ]
  },
  {
   "cell_type": "code",
   "execution_count": 21,
   "metadata": {},
   "outputs": [
    {
     "name": "stdout",
     "output_type": "stream",
     "text": [
      "2722000742408\n",
      "<__main__.subject object at 0x00000279C3E32C48>\n"
     ]
    }
   ],
   "source": [
    "class subject:\n",
    "    def __init__ (self,telugu,hindi,english,maths):\n",
    "        self.telugu = telugu\n",
    "        self.hindi = hindi\n",
    "        self.english = english\n",
    "        self.maths = maths\n",
    "    def subect_1(self,four_subjects):\n",
    "        print(\"information\")\n",
    "sub_obj = subject(\"ninety\",\"eighty\",\"seventy\",\"hunderad\")\n",
    "print(id(sub_obj))\n",
    "sub_obj1 = subject(\"ten\",\"tewnty\",\"fourty\",\"five\")\n",
    "print(sub_obj1)"
   ]
  },
  {
   "cell_type": "code",
   "execution_count": 20,
   "metadata": {},
   "outputs": [
    {
     "name": "stdout",
     "output_type": "stream",
     "text": [
      "2721998661256\n",
      "2721998618568\n"
     ]
    }
   ],
   "source": [
    "class mobile:\n",
    "    def __init__ (self,mobile,camera):\n",
    "        self.mobile = mobile\n",
    "        self.camera = camera\n",
    "    def function_name(self,number):\n",
    "        print(\"calling...{}\".format(number))\n",
    "mobile_obj1 = mobile(\"galaxy M51\",\"64Mp\")\n",
    "print(id(mobile_obj1))\n",
    "mobile_obj2 = mobile(\"galaxy J7\",\"13Mp\")\n",
    "print(id(mobile_obj2))"
   ]
  },
  {
   "cell_type": "markdown",
   "metadata": {},
   "source": [
    "### class and object"
   ]
  },
  {
   "cell_type": "markdown",
   "metadata": {},
   "source": [
    "attributes of an object:-"
   ]
  },
  {
   "cell_type": "code",
   "execution_count": 25,
   "metadata": {},
   "outputs": [
    {
     "name": "stdout",
     "output_type": "stream",
     "text": [
      "iphone\n",
      "iphone2\n"
     ]
    }
   ],
   "source": [
    "class mobile:\n",
    "    def __init__(self,model,camera):\n",
    "        self.model = model\n",
    "        self.camera = camera\n",
    "    obj = mobile(\"iphone\",\"iphone2\")\n",
    "    print(obj.model)\n",
    "    print(obj.camera)\n"
   ]
  },
  {
   "cell_type": "markdown",
   "metadata": {},
   "source": [
    "### Accessing in other methods"
   ]
  },
  {
   "cell_type": "code",
   "execution_count": 30,
   "metadata": {},
   "outputs": [
    {
     "ename": "NameError",
     "evalue": "name 'animal' is not defined",
     "output_type": "error",
     "traceback": [
      "\u001b[1;31m---------------------------------------------------------------------------\u001b[0m",
      "\u001b[1;31mNameError\u001b[0m                                 Traceback (most recent call last)",
      "\u001b[1;32m<ipython-input-30-e63cfe9e8919>\u001b[0m in \u001b[0;36m<module>\u001b[1;34m\u001b[0m\n\u001b[1;32m----> 1\u001b[1;33m \u001b[1;32mclass\u001b[0m \u001b[0manimal\u001b[0m\u001b[1;33m:\u001b[0m\u001b[1;33m\u001b[0m\u001b[1;33m\u001b[0m\u001b[0m\n\u001b[0m\u001b[0;32m      2\u001b[0m     \u001b[1;32mdef\u001b[0m \u001b[0m__init__\u001b[0m\u001b[1;33m(\u001b[0m\u001b[0mself\u001b[0m\u001b[1;33m,\u001b[0m\u001b[0mmonkey\u001b[0m\u001b[1;33m)\u001b[0m\u001b[1;33m:\u001b[0m\u001b[1;33m\u001b[0m\u001b[1;33m\u001b[0m\u001b[0m\n\u001b[0;32m      3\u001b[0m         \u001b[0mself\u001b[0m\u001b[1;33m.\u001b[0m\u001b[0mmonkey\u001b[0m \u001b[1;33m=\u001b[0m \u001b[0mmonkey\u001b[0m\u001b[1;33m\u001b[0m\u001b[1;33m\u001b[0m\u001b[0m\n\u001b[0;32m      4\u001b[0m     \u001b[1;32mdef\u001b[0m \u001b[0mkingdom\u001b[0m\u001b[1;33m(\u001b[0m\u001b[0mself\u001b[0m\u001b[1;33m)\u001b[0m\u001b[1;33m:\u001b[0m\u001b[1;33m\u001b[0m\u001b[1;33m\u001b[0m\u001b[0m\n\u001b[0;32m      5\u001b[0m         \u001b[0mprint\u001b[0m\u001b[1;33m(\u001b[0m\u001b[0mself\u001b[0m\u001b[1;33m.\u001b[0m\u001b[0mmonkey\u001b[0m\u001b[1;33m)\u001b[0m\u001b[1;33m\u001b[0m\u001b[1;33m\u001b[0m\u001b[0m\n",
      "\u001b[1;32m<ipython-input-30-e63cfe9e8919>\u001b[0m in \u001b[0;36manimal\u001b[1;34m()\u001b[0m\n\u001b[0;32m      4\u001b[0m     \u001b[1;32mdef\u001b[0m \u001b[0mkingdom\u001b[0m\u001b[1;33m(\u001b[0m\u001b[0mself\u001b[0m\u001b[1;33m)\u001b[0m\u001b[1;33m:\u001b[0m\u001b[1;33m\u001b[0m\u001b[1;33m\u001b[0m\u001b[0m\n\u001b[0;32m      5\u001b[0m         \u001b[0mprint\u001b[0m\u001b[1;33m(\u001b[0m\u001b[0mself\u001b[0m\u001b[1;33m.\u001b[0m\u001b[0mmonkey\u001b[0m\u001b[1;33m)\u001b[0m\u001b[1;33m\u001b[0m\u001b[1;33m\u001b[0m\u001b[0m\n\u001b[1;32m----> 6\u001b[1;33m     \u001b[0mobj1\u001b[0m \u001b[1;33m=\u001b[0m \u001b[0manimal\u001b[0m\u001b[1;33m(\u001b[0m\u001b[1;34m\"lion\"\u001b[0m\u001b[1;33m)\u001b[0m\u001b[1;33m\u001b[0m\u001b[1;33m\u001b[0m\u001b[0m\n\u001b[0m\u001b[0;32m      7\u001b[0m     \u001b[0mobj1\u001b[0m\u001b[1;33m.\u001b[0m\u001b[0mkingdom\u001b[0m\u001b[1;33m(\u001b[0m\u001b[1;33m)\u001b[0m\u001b[1;33m\u001b[0m\u001b[1;33m\u001b[0m\u001b[0m\n",
      "\u001b[1;31mNameError\u001b[0m: name 'animal' is not defined"
     ]
    }
   ],
   "source": [
    "class animal:\n",
    "    def __init__(self,monkey):\n",
    "        self.monkey = monkey\n",
    "    def kingdom(self):\n",
    "        print(self.monkey)\n",
    "    obj1 = animal(\"lion\")\n",
    "    obj1.kingdom()\n"
   ]
  },
  {
   "cell_type": "code",
   "execution_count": null,
   "metadata": {},
   "outputs": [],
   "source": [
    "class cart:\n",
    "    def __init__ (Self):\n",
    "        self.items = {}\n",
    "        self.price_details = {\"book\"=500,\"laptop\"=25000}\n",
    "    def add_item(self.ite)"
   ]
  },
  {
   "cell_type": "code",
   "execution_count": null,
   "metadata": {},
   "outputs": [],
   "source": [
    "telugu = int(input())\n",
    "maths = int(input())\n",
    "social = int(input())\n",
    "avg = (maths+social+telugu/2)\n",
    "print(avg)\n",
    "total = maths+social+telugu\n",
    "print(total)\n",
    "if total > 60:\n",
    "    print(\"pass\")\n",
    "elif total > 50:\n",
    "    print(\"pass\")\n",
    "elif total > 35:\n",
    "    print(\"pass\")\n",
    "else:\n",
    "    print(\"fails\")"
   ]
  },
  {
   "cell_type": "markdown",
   "metadata": {},
   "source": [
    "### coding@1"
   ]
  },
  {
   "cell_type": "code",
   "execution_count": 3,
   "metadata": {},
   "outputs": [
    {
     "name": "stdout",
     "output_type": "stream",
     "text": [
      "<bound method cart.add_item of <__main__.cart object at 0x0000023BA240AFC8>>\n"
     ]
    }
   ],
   "source": [
    "class cart:\n",
    "    def __init__(self):\n",
    "        self.items = {}\n",
    "        self.price_details = {\"book\":500,\"laptop\":30000}\n",
    "    def add_item(self,item_name,quantity):\n",
    "        self.items[item_name] = quantity\n",
    "    def remove_item(self,item_name):\n",
    "        self.items\n",
    "cart_obj = cart()\n",
    "cart_obj.add_item(\"book\",3)\n",
    "cart_obj.add_item(\"laptop\",1)\n",
    "print(cart_obj.add_item)\n"
   ]
  }
 ],
 "metadata": {
  "kernelspec": {
   "display_name": "Python 3.7.9 64-bit",
   "language": "python",
   "name": "python3"
  },
  "language_info": {
   "codemirror_mode": {
    "name": "ipython",
    "version": 3
   },
   "file_extension": ".py",
   "mimetype": "text/x-python",
   "name": "python",
   "nbconvert_exporter": "python",
   "pygments_lexer": "ipython3",
   "version": "3.7.9"
  },
  "orig_nbformat": 4,
  "vscode": {
   "interpreter": {
    "hash": "41ab88648b975b718e681383398dbc83752b59ee1497f4637fc2e3354887f18f"
   }
  }
 },
 "nbformat": 4,
 "nbformat_minor": 2
}
