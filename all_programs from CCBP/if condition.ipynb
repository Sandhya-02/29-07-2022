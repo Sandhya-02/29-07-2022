{
 "cells": [
  {
   "cell_type": "markdown",
   "metadata": {},
   "source": [
    "GREATEST AMONG TWO NUMBERS"
   ]
  },
  {
   "cell_type": "code",
   "execution_count": 4,
   "metadata": {},
   "outputs": [
    {
     "name": "stdout",
     "output_type": "stream",
     "text": [
      "7 5\n",
      "7\n"
     ]
    }
   ],
   "source": [
    "num1 = int(input())\n",
    "num2 = int(input())\n",
    "print(num1,num2)\n",
    "if (num1 > num2):\n",
    "    print(num1)\n",
    "else:\n",
    "    print(num2)"
   ]
  },
  {
   "cell_type": "markdown",
   "metadata": {},
   "source": [
    "EQUAL NUMBER"
   ]
  },
  {
   "cell_type": "code",
   "execution_count": 7,
   "metadata": {},
   "outputs": [
    {
     "name": "stdout",
     "output_type": "stream",
     "text": [
      "6\n",
      "5\n",
      "not Equal\n"
     ]
    }
   ],
   "source": [
    "first_line = int(input())\n",
    "second_line = int(input())\n",
    "print(first_line)\n",
    "print(second_line)\n",
    "if (first_line == second_line):\n",
    "    print(\"Equal\")\n",
    "else:\n",
    "    print(\"not Equal\")"
   ]
  },
  {
   "cell_type": "markdown",
   "metadata": {},
   "source": [
    "Positive or negative"
   ]
  },
  {
   "cell_type": "code",
   "execution_count": 12,
   "metadata": {},
   "outputs": [
    {
     "name": "stdout",
     "output_type": "stream",
     "text": [
      "positive\n"
     ]
    }
   ],
   "source": [
    "a = int(input())\n",
    "if (((a>0) or (a<0)) or (a==0)):\n",
    "    print(\"positive\")\n",
    "else:\n",
    "    print(\"negative\")"
   ]
  },
  {
   "cell_type": "code",
   "execution_count": 19,
   "metadata": {},
   "outputs": [
    {
     "name": "stdout",
     "output_type": "stream",
     "text": [
      "postive\n"
     ]
    }
   ],
   "source": [
    "a = int(input())\n",
    "if a>0:\n",
    "    print(\"postive\")\n",
    "elif a<0:\n",
    "    print(\"negative\")\n",
    "elif a==0:\n",
    "     print(\"zero\")\n",
    "else:\n",
    "    print(end)"
   ]
  },
  {
   "cell_type": "markdown",
   "metadata": {},
   "source": [
    "Vote Eligibility"
   ]
  },
  {
   "cell_type": "code",
   "execution_count": 21,
   "metadata": {},
   "outputs": [
    {
     "name": "stdout",
     "output_type": "stream",
     "text": [
      "20\n",
      "Eligibile\n"
     ]
    }
   ],
   "source": [
    "age = int(input(\"enter your age:\"))\n",
    "print(age)\n",
    "if age >= 18:\n",
    "    print(\"Eligibile\")\n",
    "else:\n",
    "    print(\"not Eligibile\")"
   ]
  },
  {
   "cell_type": "markdown",
   "metadata": {},
   "source": [
    "SQUARE OR RECTANGLE"
   ]
  },
  {
   "cell_type": "code",
   "execution_count": 23,
   "metadata": {},
   "outputs": [
    {
     "name": "stdout",
     "output_type": "stream",
     "text": [
      "10\n",
      "5\n",
      "Rectangle\n"
     ]
    }
   ],
   "source": [
    "length_of_box = int(input())\n",
    "breadth_of_box = int(input())\n",
    "print(length_of_box)\n",
    "print(breadth_of_box)\n",
    "if (length_of_box == breadth_of_box):\n",
    "    print(\"Square\")\n",
    "else:\n",
    "    print(\"Rectangle\")"
   ]
  },
  {
   "cell_type": "markdown",
   "metadata": {},
   "source": [
    "Bonus salary"
   ]
  },
  {
   "cell_type": "code",
   "execution_count": null,
   "metadata": {},
   "outputs": [],
   "source": [
    "salary = int(input())\n",
    "year = int(input())\n"
   ]
  },
  {
   "cell_type": "markdown",
   "metadata": {},
   "source": [
    "\"Valid Triangle\""
   ]
  },
  {
   "cell_type": "code",
   "execution_count": 2,
   "metadata": {},
   "outputs": [
    {
     "name": "stdout",
     "output_type": "stream",
     "text": [
      "270\n",
      "it not a Triangle\n"
     ]
    }
   ],
   "source": [
    "first_Angle = int(input())\n",
    "second_Angle = int(input())\n",
    "third_Angle = int(input())\n",
    "sum = (first_Angle+second_Angle+third_Angle)\n",
    "print(sum)\n",
    "if (sum <= 180):\n",
    "    print(\"Triangle\")\n",
    "else:\n",
    "    print(\"it not a Triangle\")"
   ]
  },
  {
   "cell_type": "markdown",
   "metadata": {},
   "source": [
    "\"Lucky Number\""
   ]
  },
  {
   "cell_type": "code",
   "execution_count": 5,
   "metadata": {},
   "outputs": [
    {
     "name": "stdout",
     "output_type": "stream",
     "text": [
      "3 2\n",
      "Not Lucky\n"
     ]
    }
   ],
   "source": [
    "first_line = int(input())\n",
    "second_line = int(input())\n",
    "print(first_line,second_line)\n",
    "if (first_line == 6) or (second_line == 1):\n",
    "    print(\"Lucky\")\n",
    "else:\n",
    "    print(\"Not Lucky\")"
   ]
  },
  {
   "cell_type": "markdown",
   "metadata": {},
   "source": [
    "valid Triangle"
   ]
  },
  {
   "cell_type": "code",
   "execution_count": 10,
   "metadata": {},
   "outputs": [
    {
     "name": "stdout",
     "output_type": "stream",
     "text": [
      "True True True\n",
      "Triangle\n"
     ]
    }
   ],
   "source": [
    "a = int(input())\n",
    "b = int(input())\n",
    "c = int(input())\n",
    "d = a+b>c\n",
    "e = b+c>a\n",
    "f = c+a>b\n",
    "print(d,e,f)\n",
    "if d and e and f:\n",
    "       print(\"Triangle\")\n",
    "else:\n",
    "    print(\"Not Triangle\")"
   ]
  },
  {
   "cell_type": "markdown",
   "metadata": {},
   "source": [
    "Greatest Among three numbers"
   ]
  },
  {
   "cell_type": "code",
   "execution_count": 15,
   "metadata": {},
   "outputs": [
    {
     "name": "stdout",
     "output_type": "stream",
     "text": [
      "2 5 7\n",
      "False False True\n",
      "greatest number is:\n"
     ]
    }
   ],
   "source": [
    "a = int(input())\n",
    "b = int(input())\n",
    "c = int(input())\n",
    "print(a,b,c)\n",
    "d = a>b\n",
    "e = b>c\n",
    "f = c>a\n",
    "print(d,e,f)\n",
    "if (d or e or f):\n",
    "    print(\"\")\n",
    "else:\n",
    "    print(\"not a greatest number is:\")"
   ]
  },
  {
   "cell_type": "code",
   "execution_count": 33,
   "metadata": {},
   "outputs": [
    {
     "name": "stdout",
     "output_type": "stream",
     "text": [
      "3 5 7\n",
      "7\n"
     ]
    }
   ],
   "source": [
    "a = int(input())\n",
    "b = int(input())\n",
    "c = int(input())\n",
    "print(a,b,c)\n",
    "if b<=a:\n",
    "    print(a)\n",
    "elif a<=c:\n",
    "    print(c)\n",
    "elif c<=b:\n",
    "    print(b)"
   ]
  },
  {
   "cell_type": "markdown",
   "metadata": {},
   "source": [
    "\"Postive or Negative\""
   ]
  },
  {
   "cell_type": "code",
   "execution_count": 38,
   "metadata": {},
   "outputs": [
    {
     "name": "stdout",
     "output_type": "stream",
     "text": [
      "postive\n"
     ]
    }
   ],
   "source": [
    "n = float(input())\n",
    "if (n>0):\n",
    "    print(\"postive\")\n",
    "elif (n<0):\n",
    "    print(\"negative\")"
   ]
  },
  {
   "cell_type": "markdown",
   "metadata": {},
   "source": [
    "\"Relation between number\""
   ]
  },
  {
   "cell_type": "code",
   "execution_count": 44,
   "metadata": {},
   "outputs": [
    {
     "name": "stdout",
     "output_type": "stream",
     "text": [
      "20 40\n",
      "a<b\n"
     ]
    }
   ],
   "source": [
    "a = int(input())\n",
    "b = int(input())\n",
    "print(a,b)\n",
    "if (a<b):\n",
    "    print(\"a<b\")\n",
    "else:\n",
    "    print(\"a>=b\")"
   ]
  },
  {
   "cell_type": "markdown",
   "metadata": {},
   "source": [
    "\"sum or product\""
   ]
  },
  {
   "cell_type": "code",
   "execution_count": 49,
   "metadata": {},
   "outputs": [
    {
     "name": "stdout",
     "output_type": "stream",
     "text": [
      "42 10\n",
      "52\n",
      "420\n"
     ]
    }
   ],
   "source": [
    "int1 = int(input())\n",
    "int2 = int(input())\n",
    "print(int1,int2)\n",
    "sum = int1+int2\n",
    "print(sum)\n",
    "sub = int1*int2\n",
    "if (sum<10):\n",
    "    print(sum)\n",
    "else:\n",
    "    print(sub)"
   ]
  },
  {
   "cell_type": "markdown",
   "metadata": {},
   "source": [
    "\"Smallest Among 3 Number\""
   ]
  },
  {
   "cell_type": "code",
   "execution_count": 60,
   "metadata": {},
   "outputs": [
    {
     "name": "stdout",
     "output_type": "stream",
     "text": [
      "30 26 85\n",
      "26\n"
     ]
    }
   ],
   "source": [
    "a = int(input())\n",
    "b = int(input())\n",
    "c = int(input())\n",
    "print(a,b,c)\n",
    "if a<=b and a<=c:\n",
    "    print(a)\n",
    "else:\n",
    "    if b<=c and b<=a:\n",
    "        print(b)\n",
    "    else:\n",
    "        print(c)\n"
   ]
  },
  {
   "cell_type": "markdown",
   "metadata": {},
   "source": [
    "Lucky number-2"
   ]
  },
  {
   "cell_type": "code",
   "execution_count": 65,
   "metadata": {},
   "outputs": [
    {
     "name": "stdout",
     "output_type": "stream",
     "text": [
      "number is divisible by 6\n",
      "number is divisible by 3\n",
      "number is divisible by 2\n"
     ]
    }
   ],
   "source": [
    "num1 = int(input())\n",
    "if (num1/6) and (num1/3):\n",
    "    print(\"number is divisible by 6\")\n",
    "if num1/3:\n",
    "    print(\"number is divisible by 3\")\n",
    "if num1/2:\n",
    "    print(\"number is divisible by 2\")\n",
    "else:\n",
    "    print(\"number is not divisible by 2 3 or 6\")"
   ]
  },
  {
   "cell_type": "code",
   "execution_count": 71,
   "metadata": {},
   "outputs": [
    {
     "name": "stdout",
     "output_type": "stream",
     "text": [
      "517\n",
      "divisible\n"
     ]
    }
   ],
   "source": [
    "num = int(input())\n",
    "print(num)\n",
    "num1 = num/6 \n",
    "num2 = num/3\n",
    "num3 = num/2\n",
    "if (num1) and (num2):\n",
    "    print(\"divisible \")\n",
    "else:\n",
    "    print(\"not divisible\")"
   ]
  },
  {
   "cell_type": "markdown",
   "metadata": {},
   "source": [
    "3 digit Armstrong number"
   ]
  },
  {
   "cell_type": "code",
   "execution_count": 29,
   "metadata": {},
   "outputs": [
    {
     "name": "stdout",
     "output_type": "stream",
     "text": [
      "197\n",
      "False\n"
     ]
    }
   ],
   "source": [
    "# num = int(input())\n",
    "# print(num)\n",
    "# print(str(len(num)))\n",
    "# a = (num[0])\n",
    "# b = (num[1])\n",
    "# c = (num[2])\n",
    "# print(a,b,c)\n",
    "# A = (a)\n",
    "# B = (b*b*b)\n",
    "# C = (c*c*c)\n",
    "# print(A,B,C)\n",
    "a = int(input())\n",
    "b = str(a)\n",
    "c = b[0]\n",
    "d = int(c)**3\n",
    "e = b[1]\n",
    "f = int(e)**3\n",
    "g = b[2]\n",
    "h = int(g)**3\n",
    "i = d+f+h\n",
    "print(i)\n",
    "if i == a:\n",
    "    print(\"True\")\n",
    "else:\n",
    "    print(\"False\")\n",
    "\n",
    "\n"
   ]
  },
  {
   "cell_type": "code",
   "execution_count": 4,
   "metadata": {},
   "outputs": [
    {
     "name": "stdout",
     "output_type": "stream",
     "text": [
      "1000\n"
     ]
    }
   ],
   "source": [
    "x = lambda a:a*10\n",
    "print(x(100))"
   ]
  },
  {
   "cell_type": "code",
   "execution_count": 9,
   "metadata": {},
   "outputs": [
    {
     "name": "stdout",
     "output_type": "stream",
     "text": [
      "36\n"
     ]
    }
   ],
   "source": [
    "x = lambda a:a**2\n",
    "print(x(6))"
   ]
  },
  {
   "cell_type": "code",
   "execution_count": 11,
   "metadata": {},
   "outputs": [
    {
     "name": "stdout",
     "output_type": "stream",
     "text": [
      "-11.5\n"
     ]
    }
   ],
   "source": [
    "x = lambda a,b,c:(b**2-4*a*c)*0.5/2*a\n",
    "print(x(2,3,4))"
   ]
  },
  {
   "cell_type": "code",
   "execution_count": 14,
   "metadata": {},
   "outputs": [
    {
     "name": "stdout",
     "output_type": "stream",
     "text": [
      "sandhya rani rathlavath\n"
     ]
    }
   ],
   "source": [
    "def name(my_name):\n",
    "    return my_name\n",
    "\n",
    "print(name(\"sandhya rani rathlavath\"))"
   ]
  },
  {
   "cell_type": "code",
   "execution_count": 15,
   "metadata": {},
   "outputs": [
    {
     "name": "stdout",
     "output_type": "stream",
     "text": [
      "22\n"
     ]
    }
   ],
   "source": [
    "def myfunc(n):\n",
    "  return lambda a : a * n\n",
    "\n",
    "mydoubler = myfunc(2)\n",
    "\n",
    "print(mydoubler(11))"
   ]
  },
  {
   "cell_type": "code",
   "execution_count": 18,
   "metadata": {},
   "outputs": [
    {
     "name": "stdout",
     "output_type": "stream",
     "text": [
      "hello\n",
      "vasavi\n"
     ]
    }
   ],
   "source": [
    "def greeting():\n",
    "    print(\"hello\")\n",
    "name = input()\n",
    "greeting()\n",
    "print(name)"
   ]
  },
  {
   "cell_type": "code",
   "execution_count": 21,
   "metadata": {},
   "outputs": [
    {
     "name": "stdout",
     "output_type": "stream",
     "text": [
      "hello world\n",
      "30\n",
      "10\n",
      "200\n",
      "hello world\n"
     ]
    }
   ],
   "source": [
    "def function_name():\n",
    "    print(\"hello world\")\n",
    "a = 10\n",
    "b = 20\n",
    "add = a+b\n",
    "function_name()\n",
    "print(add)\n",
    "sub = b-a \n",
    "print(sub)\n",
    "mul = a*b\n",
    "print(mul)\n",
    "function_name()"
   ]
  },
  {
   "cell_type": "code",
   "execution_count": 23,
   "metadata": {},
   "outputs": [
    {
     "name": "stdout",
     "output_type": "stream",
     "text": [
      "32\n",
      "helloworld\n"
     ]
    }
   ],
   "source": [
    "def function_name():\n",
    "    hi = \"hello\"+\"world\"\n",
    "    print(hi)\n",
    "a = 12\n",
    "b = 20\n",
    "print(a+b)\n",
    "function_name()"
   ]
  },
  {
   "cell_type": "code",
   "execution_count": 25,
   "metadata": {},
   "outputs": [
    {
     "name": "stdout",
     "output_type": "stream",
     "text": [
      "sandhya\n",
      "hellosandhya\n"
     ]
    }
   ],
   "source": [
    "def function_name(argument):\n",
    "    hi = \"hello\"+argument\n",
    "    print(hi)\n",
    "name = input()\n",
    "print(name) \n",
    "function_name(argument=name)"
   ]
  },
  {
   "cell_type": "code",
   "execution_count": 29,
   "metadata": {},
   "outputs": [
    {
     "name": "stdout",
     "output_type": "stream",
     "text": [
      "bindhu\n",
      "ghansirambindhu\n"
     ]
    }
   ],
   "source": [
    "def function_name(name):\n",
    "    family = \"ghansiram\"+name\n",
    "    print(family)\n",
    "name1 = input()\n",
    "print(name1)\n",
    "function_name(name=name1)\n"
   ]
  },
  {
   "cell_type": "markdown",
   "metadata": {},
   "source": [
    "\"returning value in function\""
   ]
  },
  {
   "cell_type": "code",
   "execution_count": 32,
   "metadata": {},
   "outputs": [
    {
     "name": "stdout",
     "output_type": "stream",
     "text": [
      "hellobindhu\n"
     ]
    }
   ],
   "source": [
    "def function_name(args):\n",
    "    hi = \"hello\"+args\n",
    "    return hi\n",
    "name = input()\n",
    "fun = function_name(args=name)\n",
    "print(fun)"
   ]
  },
  {
   "cell_type": "code",
   "execution_count": 40,
   "metadata": {},
   "outputs": [
    {
     "name": "stdout",
     "output_type": "stream",
     "text": [
      "sandhyasandhya\n",
      "sandhyarani\n"
     ]
    }
   ],
   "source": [
    "def function_name(sum):\n",
    "    num = \"sandhya\"+sum\n",
    "    return num\n",
    "    print(num)\n",
    "name = input()\n",
    "fun = function_name(sum=name)\n",
    "print(fun)\n",
    "fun = function_name(sum=\"rani\")\n",
    "print(fun)\n"
   ]
  },
  {
   "cell_type": "markdown",
   "metadata": {},
   "source": [
    "\"keyword arguments\" "
   ]
  },
  {
   "cell_type": "code",
   "execution_count": 44,
   "metadata": {},
   "outputs": [
    {
     "name": "stdout",
     "output_type": "stream",
     "text": [
      "sandhyarani rathlavath\n",
      "rathlavath sandhyarani\n",
      "sandhyarani rathlavath\n"
     ]
    }
   ],
   "source": [
    "def function_name(argu_1,argu_2):\n",
    "    hi = argu_1 + \" \" + argu_2\n",
    "    print(hi)\n",
    "name1 = input()\n",
    "name2 = input()\n",
    "function_name(argu_1=name1,argu_2=name2)\n",
    "function_name(argu_2=name1,argu_1=name2)\n",
    "function_name(argu_2=name2,argu_1=name1)"
   ]
  },
  {
   "cell_type": "markdown",
   "metadata": {},
   "source": [
    "\"positional arguments\""
   ]
  },
  {
   "cell_type": "code",
   "execution_count": 48,
   "metadata": {},
   "outputs": [
    {
     "name": "stdout",
     "output_type": "stream",
     "text": [
      "i h\n",
      "h i\n"
     ]
    }
   ],
   "source": [
    "def function_name(a1,a2):\n",
    "    function = a1+\" \"+a2\n",
    "    print(function)\n",
    "fun1 = input()\n",
    "fun2 = input()\n",
    "function_name(fun1,fun2)\n",
    "function_name(fun2,fun1)"
   ]
  },
  {
   "cell_type": "markdown",
   "metadata": {},
   "source": [
    "\"defult arguments\""
   ]
  },
  {
   "cell_type": "code",
   "execution_count": 50,
   "metadata": {},
   "outputs": [
    {
     "name": "stdout",
     "output_type": "stream",
     "text": [
      "god\n",
      "save\n",
      "hi sandhya\n",
      "sindhu sandhya\n",
      "hello ruhi\n",
      "hi manjula\n"
     ]
    }
   ],
   "source": [
    "def fun_name(a1 = \"hi\",a2 = \"sandhya\"):\n",
    "    fun = (a1+\" \"+a2)\n",
    "    print(fun)\n",
    "fun1 = input()\n",
    "fun2 = input()\n",
    "print(fun1)\n",
    "print(fun2)\n",
    "fun_name()\n",
    "fun_name (\"sindhu\") \n",
    "fun_name (\"hello\",\"ruhi\")\n",
    "fun_name (a2=\"manjula\")\n"
   ]
  },
  {
   "cell_type": "markdown",
   "metadata": {},
   "source": [
    "\"Paassing Immutable Objects\""
   ]
  },
  {
   "cell_type": "code",
   "execution_count": 54,
   "metadata": {},
   "outputs": [
    {
     "name": "stdout",
     "output_type": "stream",
     "text": [
      "6\n"
     ]
    }
   ],
   "source": [
    "def function_name(a):\n",
    "    a += 1\n",
    "a = int(input())\n",
    "function_name(a)\n",
    "print(a)"
   ]
  },
  {
   "cell_type": "code",
   "execution_count": 56,
   "metadata": {},
   "outputs": [
    {
     "name": "stdout",
     "output_type": "stream",
     "text": [
      "<function function_name.<locals>.<lambda> at 0x00000250E4537A68>\n",
      "10\n"
     ]
    }
   ],
   "source": [
    "def function_name(n):\n",
    "    fun1 = lambda a:a*n\n",
    "    print(fun1)\n",
    "    return(fun1)\n",
    "name = input()\n",
    "fun2 = function_name(12)\n",
    "print(name)\n"
   ]
  },
  {
   "cell_type": "markdown",
   "metadata": {},
   "source": [
    "\"FUNCTION ON SORRY\""
   ]
  },
  {
   "cell_type": "code",
   "execution_count": 5,
   "metadata": {},
   "outputs": [
    {
     "name": "stdout",
     "output_type": "stream",
     "text": [
      "sorry for the delay\n",
      "message\n",
      "sorry for the delay message\n"
     ]
    }
   ],
   "source": [
    "def function_name(argu1,argu2):\n",
    "    name = argu1+\" \"+argu2\n",
    "    print(name)\n",
    "name1 = input()\n",
    "name2 = input()\n",
    "print(name1)\n",
    "print(name2)\n",
    "fun1 = function_name(argu1=name1,argu2=name2)\n",
    "# fun2 = function_name(argu1=name1,argu2=name2)"
   ]
  },
  {
   "cell_type": "code",
   "execution_count": null,
   "metadata": {},
   "outputs": [],
   "source": []
  }
 ],
 "metadata": {
  "kernelspec": {
   "display_name": "Python 3.7.9 64-bit",
   "language": "python",
   "name": "python3"
  },
  "language_info": {
   "codemirror_mode": {
    "name": "ipython",
    "version": 3
   },
   "file_extension": ".py",
   "mimetype": "text/x-python",
   "name": "python",
   "nbconvert_exporter": "python",
   "pygments_lexer": "ipython3",
   "version": "3.7.9"
  },
  "orig_nbformat": 4,
  "vscode": {
   "interpreter": {
    "hash": "41ab88648b975b718e681383398dbc83752b59ee1497f4637fc2e3354887f18f"
   }
  }
 },
 "nbformat": 4,
 "nbformat_minor": 2
}
