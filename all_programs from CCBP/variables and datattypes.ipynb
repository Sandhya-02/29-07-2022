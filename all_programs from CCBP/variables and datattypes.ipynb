{
 "cells": [
  {
   "cell_type": "code",
   "execution_count": null,
   "metadata": {},
   "outputs": [],
   "source": [
    "a = 10\n",
    "b = str(a)\n",
    "c = float(a)\n",
    "print(type(a))\n",
    "print(type(b))\n",
    "print('\"sandhya\"')\n",
    "print(c)\n"
   ]
  },
  {
   "cell_type": "code",
   "execution_count": null,
   "metadata": {},
   "outputs": [],
   "source": [
    "a = 10\n",
    "print(str(a))"
   ]
  },
  {
   "cell_type": "code",
   "execution_count": null,
   "metadata": {},
   "outputs": [],
   "source": [
    "name = \"sandhya\"\n",
    "surname = \"rathlavath\"\n",
    "print(name+surname)\n",
    "print(name+\" \"+surname)\n",
    "print(name,surname)"
   ]
  },
  {
   "cell_type": "markdown",
   "metadata": {},
   "source": [
    "### can't decleared the varaibles with operators(+,-,*,/,//,%,**) like \"sandhya-sandeep=name\"\n",
    "### can't decleared a variable with integers (0-9) 9sandhya = \"name\",2.3soon = \"hello\"\n"
   ]
  },
  {
   "cell_type": "code",
   "execution_count": 21,
   "metadata": {},
   "outputs": [
    {
     "name": "stdout",
     "output_type": "stream",
     "text": [
      "vasavi\n",
      "1\n",
      "mama demon book pen\n",
      "10\n",
      "11\n",
      "12\n",
      "13\n",
      "program\n",
      "name\n"
     ]
    }
   ],
   "source": [
    "name =\"vasavi\"\n",
    "print(name)\n",
    "# 1 = \"vasavi\"\n",
    "print(1)\n",
    "_name = \"mama\"\n",
    "_name_name = \"demon\"\n",
    "_name_name_name = \"book\"\n",
    "_name_name_name_name = \"pen\"\n",
    "# _name-name-name-name = \"egg\"\n",
    "name1 = \"sun\"\n",
    "print(_name,_name_name,_name_name_name,_name_name_name_name)\n",
    "my_name = 10\n",
    "print(my_name)\n",
    "myNAME = 11\n",
    "print(myNAME)\n",
    "MY_name = 12\n",
    "print(MY_name)\n",
    "myName = 13\n",
    "print(myName)\n",
    "# my name = 14 (can't decleared a variable with space present in between a variable name)\n",
    "# print(my name)  \n",
    "my1 = \"program\"\n",
    "my2name  = \"name\"\n",
    "print(my1)\n",
    "print(my2name)"
   ]
  },
  {
   "cell_type": "code",
   "execution_count": 26,
   "metadata": {},
   "outputs": [
    {
     "name": "stdout",
     "output_type": "stream",
     "text": [
      "icecream\n",
      "blue\n",
      "sweet\n"
     ]
    }
   ],
   "source": [
    "color,flaoure,taste=\"blue\",\"icecream\",\"sweet\"\n",
    "print(flaoure)\n",
    "print(color)\n",
    "print(taste)"
   ]
  },
  {
   "cell_type": "code",
   "execution_count": 33,
   "metadata": {},
   "outputs": [
    {
     "name": "stdout",
     "output_type": "stream",
     "text": [
      "lehanga\n",
      "lehanga\n",
      "lehanga\n",
      "lehanga\n",
      "lehangalehanga\n",
      "lehanga lehanga\n"
     ]
    }
   ],
   "source": [
    "dress = fav = mobile = type = \"lehanga\"\n",
    "print(dress)\n",
    "print(fav)\n",
    "print(mobile)\n",
    "print(type)\n",
    "print(dress+fav)\n",
    "print(dress,fav)\n"
   ]
  },
  {
   "cell_type": "code",
   "execution_count": null,
   "metadata": {},
   "outputs": [],
   "source": []
  }
 ],
 "metadata": {
  "kernelspec": {
   "display_name": "Python 3.7.9 64-bit",
   "language": "python",
   "name": "python3"
  },
  "language_info": {
   "codemirror_mode": {
    "name": "ipython",
    "version": 3
   },
   "file_extension": ".py",
   "mimetype": "text/x-python",
   "name": "python",
   "nbconvert_exporter": "python",
   "pygments_lexer": "ipython3",
   "version": "3.7.9"
  },
  "orig_nbformat": 4,
  "vscode": {
   "interpreter": {
    "hash": "41ab88648b975b718e681383398dbc83752b59ee1497f4637fc2e3354887f18f"
   }
  }
 },
 "nbformat": 4,
 "nbformat_minor": 2
}
