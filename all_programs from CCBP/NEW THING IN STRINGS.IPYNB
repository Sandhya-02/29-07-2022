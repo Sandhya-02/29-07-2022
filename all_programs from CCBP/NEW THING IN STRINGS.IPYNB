{
 "cells": [
  {
   "cell_type": "code",
   "execution_count": 8,
   "metadata": {},
   "outputs": [
    {
     "name": "stdout",
     "output_type": "stream",
     "text": [
      "1010000000\n",
      " 1,010,000,000\n",
      "1_010_000_000\n",
      "1010000000\n"
     ]
    }
   ],
   "source": [
    "num1= 1_000_000_000\n",
    "num2= 10_000_000 \n",
    "total = num1+num2 \n",
    "print(total)\n",
    "print(f'{total: ,}')\n",
    "print(f'{total:_}')\n",
    "print(f'{total:^}')"
   ]
  }
 ],
 "metadata": {
  "kernelspec": {
   "display_name": "Python 3.7.9 64-bit",
   "language": "python",
   "name": "python3"
  },
  "language_info": {
   "codemirror_mode": {
    "name": "ipython",
    "version": 3
   },
   "file_extension": ".py",
   "mimetype": "text/x-python",
   "name": "python",
   "nbconvert_exporter": "python",
   "pygments_lexer": "ipython3",
   "version": "3.7.9"
  },
  "orig_nbformat": 4,
  "vscode": {
   "interpreter": {
    "hash": "41ab88648b975b718e681383398dbc83752b59ee1497f4637fc2e3354887f18f"
   }
  }
 },
 "nbformat": 4,
 "nbformat_minor": 2
}
