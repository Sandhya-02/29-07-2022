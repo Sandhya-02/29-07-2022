{
 "cells": [
  {
   "cell_type": "markdown",
   "metadata": {},
   "source": [
    "### PASSING MUTABLE OBJECTS"
   ]
  },
  {
   "cell_type": "code",
   "execution_count": 7,
   "metadata": {},
   "outputs": [
    {
     "name": "stdout",
     "output_type": "stream",
     "text": [
      "[3]\n",
      "[1, 2, 4]\n"
     ]
    }
   ],
   "source": [
    "def add_item(list_x):\n",
    "    list_x = [3]\n",
    "    print(list_x)\n",
    "list_a = [1,2,4]\n",
    "add_item(list_a)\n",
    "print(list_a)"
   ]
  },
  {
   "cell_type": "markdown",
   "metadata": {},
   "source": [
    "### compound assignment operator +="
   ]
  },
  {
   "cell_type": "code",
   "execution_count": 9,
   "metadata": {},
   "outputs": [
    {
     "name": "stdout",
     "output_type": "stream",
     "text": [
      "[1, 2, 4, 3]\n",
      "[1, 2, 4, 3]\n"
     ]
    }
   ],
   "source": [
    "def add_item(list_x):\n",
    "    list_x += [3]\n",
    "    print(list_x)\n",
    "list_a = [1,2,4]\n",
    "add_item(list_a)\n",
    "print(list_a)"
   ]
  },
  {
   "cell_type": "code",
   "execution_count": 13,
   "metadata": {},
   "outputs": [
    {
     "name": "stdout",
     "output_type": "stream",
     "text": [
      "[3]\n",
      "[1, 2, 4, 5, 6, 3]\n",
      "[3, 3]\n"
     ]
    }
   ],
   "source": [
    "def add_item(list_x=[]):\n",
    "    list_x += [3]\n",
    "    print(list_x)\n",
    "add_item()\n",
    "add_item([1,2,4,5,6])\n",
    "add_item()"
   ]
  },
  {
   "cell_type": "markdown",
   "metadata": {},
   "source": [
    "MIN()"
   ]
  },
  {
   "cell_type": "code",
   "execution_count": 14,
   "metadata": {},
   "outputs": [
    {
     "name": "stdout",
     "output_type": "stream",
     "text": [
      "1\n"
     ]
    }
   ],
   "source": [
    "a = min(5,6,9,2,4,1)\n",
    "print(a)"
   ]
  },
  {
   "cell_type": "code",
   "execution_count": 15,
   "metadata": {},
   "outputs": [
    {
     "name": "stdout",
     "output_type": "stream",
     "text": [
      "java\n"
     ]
    }
   ],
   "source": [
    "a = (\"java\",\"python\")\n",
    "print(min(a))"
   ]
  },
  {
   "cell_type": "markdown",
   "metadata": {},
   "source": [
    "maximum()  max()"
   ]
  },
  {
   "cell_type": "code",
   "execution_count": 16,
   "metadata": {},
   "outputs": [
    {
     "name": "stdout",
     "output_type": "stream",
     "text": [
      "259\n"
     ]
    }
   ],
   "source": [
    "a = 10,30,50,80,100,245,259,135\n",
    "print(max(a))"
   ]
  },
  {
   "cell_type": "markdown",
   "metadata": {},
   "source": [
    "sum()"
   ]
  },
  {
   "cell_type": "code",
   "execution_count": 17,
   "metadata": {},
   "outputs": [
    {
     "name": "stdout",
     "output_type": "stream",
     "text": [
      "17\n"
     ]
    }
   ],
   "source": [
    "sum_of_number = sum([1,2,5,4,5])\n",
    "print(sum_of_number)"
   ]
  },
  {
   "cell_type": "markdown",
   "metadata": {},
   "source": [
    " sorted(sequence)"
   ]
  },
  {
   "cell_type": "code",
   "execution_count": 18,
   "metadata": {},
   "outputs": [
    {
     "name": "stdout",
     "output_type": "stream",
     "text": [
      "[1, 2, 4, 5, 6, 6, 7, 8, 89]\n"
     ]
    }
   ],
   "source": [
    "seq = [1,6,5,4,8,6,7,89,2]\n",
    "print(sorted(seq))"
   ]
  },
  {
   "cell_type": "code",
   "execution_count": 21,
   "metadata": {},
   "outputs": [
    {
     "name": "stdout",
     "output_type": "stream",
     "text": [
      "[-3, 6, 59, -63, 14, 15, -78, 23]\n",
      "8\n",
      "<class 'list'>\n",
      "[-78, -63, -3, 6, 14, 15, 23, 59]\n"
     ]
    }
   ],
   "source": [
    "num=[-3,6,59,-63,14,15,-78,23]\n",
    "print(num)\n",
    "print(len(num))\n",
    "print(type(num))\n",
    "print(sorted(num))"
   ]
  },
  {
   "cell_type": "markdown",
   "metadata": {},
   "source": [
    "sorted(sequence,reverse=false or true)"
   ]
  },
  {
   "cell_type": "code",
   "execution_count": 25,
   "metadata": {},
   "outputs": [
    {
     "name": "stdout",
     "output_type": "stream",
     "text": [
      "[2, 7, 8, 8, 10, 45, 47, 52, 54, 93]\n",
      "[93, 54, 52, 47, 45, 10, 8, 8, 7, 2]\n"
     ]
    }
   ],
   "source": [
    "a = [10,52,47,8,93,45,7,2,54,8]\n",
    "b = (sorted(a,reverse = True))\n",
    "c = sorted(a,reverse = False)\n",
    "print(c)\n",
    "print(b)"
   ]
  },
  {
   "cell_type": "markdown",
   "metadata": {},
   "source": [
    "CODNG QUESTION:1)  EXTRACT DIGITS "
   ]
  },
  {
   "cell_type": "code",
   "execution_count": 40,
   "metadata": {},
   "outputs": [
    {
     "name": "stdout",
     "output_type": "stream",
     "text": [
      "('c', 'd', 'n')\n",
      "(0, 1, 8)\n",
      "9\n",
      "0\n",
      "8\n"
     ]
    }
   ],
   "source": [
    "a = ([\"c\",0,\"d\",1,\"n\",8])\n",
    "b = (a[1],a[3],a[5])\n",
    "c = (a[0],a[2],a[4])\n",
    "print(c)\n",
    "print(b)\n",
    "print(sum(b))\n",
    "print(min(b))\n",
    "print(max(b))\n",
    "\n",
    "# print(a)\n",
    "# print(len(a))\n",
    "# print(type(a))\n",
    "# print(int(sum(a)))\n",
    "\n"
   ]
  },
  {
   "cell_type": "code",
   "execution_count": null,
   "metadata": {},
   "outputs": [],
   "source": [
    "a = []"
   ]
  }
 ],
 "metadata": {
  "kernelspec": {
   "display_name": "Python 3.7.9 64-bit",
   "language": "python",
   "name": "python3"
  },
  "language_info": {
   "codemirror_mode": {
    "name": "ipython",
    "version": 3
   },
   "file_extension": ".py",
   "mimetype": "text/x-python",
   "name": "python",
   "nbconvert_exporter": "python",
   "pygments_lexer": "ipython3",
   "version": "3.7.9"
  },
  "orig_nbformat": 4,
  "vscode": {
   "interpreter": {
    "hash": "41ab88648b975b718e681383398dbc83752b59ee1497f4637fc2e3354887f18f"
   }
  }
 },
 "nbformat": 4,
 "nbformat_minor": 2
}
