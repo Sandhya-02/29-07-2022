{
 "cells": [
  {
   "cell_type": "markdown",
   "metadata": {},
   "source": [
    "### STACK"
   ]
  },
  {
   "cell_type": "code",
   "execution_count": 2,
   "metadata": {},
   "outputs": [
    {
     "name": "stdout",
     "output_type": "stream",
     "text": [
      "2\n"
     ]
    }
   ],
   "source": [
    "def function_name(arg1):\n",
    "    a = len(arg1)\n",
    "    for i in range(a):\n",
    "        x = arg1[i]\n",
    "        arg1[i] = x*x\n",
    "        y = max(arg1)\n",
    "        return y\n",
    "b = [1,-3,2]\n",
    "c = function_name(arg1=b)\n",
    "print(c)"
   ]
  },
  {
   "cell_type": "code",
   "execution_count": 13,
   "metadata": {},
   "outputs": [
    {
     "name": "stdout",
     "output_type": "stream",
     "text": [
      "(1, 2, 3, 4, 5)\n",
      "(1, 2, 3, 4, 5)\n",
      "(1, 2, 3, 4, 5)\n",
      "(1, 2, 3, 4, 5)\n",
      "(1, 2, 3, 4, 5)\n"
     ]
    }
   ],
   "source": [
    "list_x = (1,2,3,4,5)\n",
    "for i in (list_x):\n",
    "    print(list_x)\n",
    "    # print(i)"
   ]
  },
  {
   "cell_type": "code",
   "execution_count": 19,
   "metadata": {},
   "outputs": [
    {
     "name": "stdout",
     "output_type": "stream",
     "text": [
      "b= 8\n",
      "x= 3\n",
      "a[i]= 9\n",
      "347\n",
      "d= [9, 5, 8, 6, 347, 5, 9, 82]\n",
      "b= 8\n",
      "x= 9\n",
      "a[i]= 81\n",
      "347\n",
      "b= 8\n",
      "x= 81\n",
      "a[i]= 6561\n",
      "6561\n"
     ]
    }
   ],
   "source": [
    "def function(a):\n",
    "    b = len(a)\n",
    "    print(\"b=\",b)\n",
    "    for i in range(len(a)):\n",
    "        x = a[i]\n",
    "        print(\"x=\",x)\n",
    "        a[i] = x*x\n",
    "        print(\"a[i]=\",a[i])\n",
    "        c = max(a)\n",
    "        return(c)\n",
    "        print(\"c=\",c)\n",
    "d = [3,5,8,6,347,5,9,82]\n",
    "print(function(a=d))\n",
    "print(\"d=\",d)\n",
    "print(function(d))\n",
    "print(function(d))"
   ]
  },
  {
   "cell_type": "markdown",
   "metadata": {},
   "source": [
    "### SUM OF SQUARES OF LIST ITEMS"
   ]
  },
  {
   "cell_type": "code",
   "execution_count": 21,
   "metadata": {},
   "outputs": [
    {
     "name": "stdout",
     "output_type": "stream",
     "text": [
      "3969\n"
     ]
    }
   ],
   "source": [
    "def num(x):\n",
    "    return(x*x)\n",
    "name = int(input())\n",
    "print(num(name))"
   ]
  },
  {
   "cell_type": "code",
   "execution_count": 34,
   "metadata": {},
   "outputs": [
    {
     "name": "stdout",
     "output_type": "stream",
     "text": [
      "a= 1\n",
      "a= 3\n",
      "a= 6\n",
      "6\n"
     ]
    }
   ],
   "source": [
    "def squ(x):\n",
    "    return(x)\n",
    "def sum(list_a):\n",
    "    a = 0\n",
    "    for i in list_a:\n",
    "        a += squ(i)\n",
    "        print(\"a=\",a)\n",
    "    return a\n",
    "name = [1,2,3]\n",
    "result = sum(name)\n",
    "print(result)"
   ]
  }
 ],
 "metadata": {
  "kernelspec": {
   "display_name": "Python 3.7.9 64-bit",
   "language": "python",
   "name": "python3"
  },
  "language_info": {
   "codemirror_mode": {
    "name": "ipython",
    "version": 3
   },
   "file_extension": ".py",
   "mimetype": "text/x-python",
   "name": "python",
   "nbconvert_exporter": "python",
   "pygments_lexer": "ipython3",
   "version": "3.7.9"
  },
  "orig_nbformat": 4,
  "vscode": {
   "interpreter": {
    "hash": "41ab88648b975b718e681383398dbc83752b59ee1497f4637fc2e3354887f18f"
   }
  }
 },
 "nbformat": 4,
 "nbformat_minor": 2
}
